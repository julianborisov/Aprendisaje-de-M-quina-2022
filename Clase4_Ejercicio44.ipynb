{
  "nbformat": 4,
  "nbformat_minor": 0,
  "metadata": {
    "colab": {
      "name": "Clase4_Ejercicio4.4.ipynb",
      "provenance": [],
      "authorship_tag": "ABX9TyPhfpopmf0ej0AnZ+XOGHGx",
      "include_colab_link": true
    },
    "kernelspec": {
      "name": "python3",
      "display_name": "Python 3"
    },
    "language_info": {
      "name": "python"
    }
  },
  "cells": [
    {
      "cell_type": "markdown",
      "metadata": {
        "id": "view-in-github",
        "colab_type": "text"
      },
      "source": [
        "<a href=\"https://colab.research.google.com/github/julianborisov/Aprendisaje-de-M-quina-2022/blob/main/Clase4_Ejercicio44.ipynb\" target=\"_parent\"><img src=\"https://colab.research.google.com/assets/colab-badge.svg\" alt=\"Open In Colab\"/></a>"
      ]
    },
    {
      "cell_type": "markdown",
      "source": [
        "El objetivo es desarrollar un clasificador que a través de los atributos del dataset permita predecir la benignidad o malignidad de un tumor.\n"
      ],
      "metadata": {
        "id": "GG1zKYJL_L17"
      }
    },
    {
      "cell_type": "code",
      "source": [
        "import pandas as pd\n",
        "import numpy as np\n",
        "import matplotlib.pyplot as plt\n",
        "import seaborn as sns"
      ],
      "metadata": {
        "id": "53O16I7j_PKT"
      },
      "execution_count": 10,
      "outputs": []
    },
    {
      "cell_type": "code",
      "source": [
        "tum = pd.read_csv(\"https://raw.githubusercontent.com/emmanueliarussi/DataScienceCapstone/master/3_MidtermProjects/ProjectBCD/data/data.csv\")\n",
        "print(tum.shape)\n",
        "print(tum.columns)"
      ],
      "metadata": {
        "colab": {
          "base_uri": "https://localhost:8080/"
        },
        "id": "T5QMGL3__eg9",
        "outputId": "f621cc73-0ef5-40bd-d6d5-0d6d7dc9a9d3"
      },
      "execution_count": 11,
      "outputs": [
        {
          "output_type": "stream",
          "name": "stdout",
          "text": [
            "(569, 33)\n",
            "Index(['id', 'diagnosis', 'radius_mean', 'texture_mean', 'perimeter_mean',\n",
            "       'area_mean', 'smoothness_mean', 'compactness_mean', 'concavity_mean',\n",
            "       'concave points_mean', 'symmetry_mean', 'fractal_dimension_mean',\n",
            "       'radius_se', 'texture_se', 'perimeter_se', 'area_se', 'smoothness_se',\n",
            "       'compactness_se', 'concavity_se', 'concave points_se', 'symmetry_se',\n",
            "       'fractal_dimension_se', 'radius_worst', 'texture_worst',\n",
            "       'perimeter_worst', 'area_worst', 'smoothness_worst',\n",
            "       'compactness_worst', 'concavity_worst', 'concave points_worst',\n",
            "       'symmetry_worst', 'fractal_dimension_worst', 'Unnamed: 32'],\n",
            "      dtype='object')\n"
          ]
        }
      ]
    },
    {
      "cell_type": "code",
      "source": [
        "#Chequeamos cuál es atributo target dentro del dataset y modificamos a tipo numérico para facilitar la implementación de un clasificador."
      ],
      "metadata": {
        "id": "59MXPQ3xALyD"
      },
      "execution_count": 12,
      "outputs": []
    },
    {
      "cell_type": "code",
      "source": [
        "row,col = tum.shape\n",
        "print('La cantidad de filas del dataset es:',row)\n",
        "print('La cantidad de columnas en el dataset es',col,'\\n')\n",
        "\n",
        "print(tum.diagnosis)\n",
        "print(tum['diagnosis'].describe())    #Atributo target\n",
        "\n",
        "tum['diag']=0     #Agregamos el atributo \"diag\" con valores 0 (remplazo de B) y 1 (remplazo de M)\n",
        "\n",
        "i=0\n",
        "for x in range(row):\n",
        "  if tum.diagnosis[i]=='B':\n",
        "    tum.diag[i]=0\n",
        "  else:\n",
        "    tum.diag[i]=1\n",
        "  i+=1\n",
        "\n",
        "print(tum.diag)\n",
        "print(tum['diag'].describe())"
      ],
      "metadata": {
        "colab": {
          "base_uri": "https://localhost:8080/"
        },
        "id": "e3wrAEjTAyU7",
        "outputId": "02d45b9c-3713-4106-ee15-91ddc88267dc"
      },
      "execution_count": 13,
      "outputs": [
        {
          "output_type": "stream",
          "name": "stdout",
          "text": [
            "La cantidad de filas del dataset es: 569\n",
            "La cantidad de columnas en el dataset es 33 \n",
            "\n",
            "0      M\n",
            "1      M\n",
            "2      M\n",
            "3      M\n",
            "4      M\n",
            "      ..\n",
            "564    M\n",
            "565    M\n",
            "566    M\n",
            "567    M\n",
            "568    B\n",
            "Name: diagnosis, Length: 569, dtype: object\n",
            "count     569\n",
            "unique      2\n",
            "top         B\n",
            "freq      357\n",
            "Name: diagnosis, dtype: object\n"
          ]
        },
        {
          "output_type": "stream",
          "name": "stderr",
          "text": [
            "/usr/local/lib/python3.7/dist-packages/ipykernel_launcher.py:15: SettingWithCopyWarning: \n",
            "A value is trying to be set on a copy of a slice from a DataFrame\n",
            "\n",
            "See the caveats in the documentation: https://pandas.pydata.org/pandas-docs/stable/user_guide/indexing.html#returning-a-view-versus-a-copy\n",
            "  from ipykernel import kernelapp as app\n",
            "/usr/local/lib/python3.7/dist-packages/ipykernel_launcher.py:13: SettingWithCopyWarning: \n",
            "A value is trying to be set on a copy of a slice from a DataFrame\n",
            "\n",
            "See the caveats in the documentation: https://pandas.pydata.org/pandas-docs/stable/user_guide/indexing.html#returning-a-view-versus-a-copy\n",
            "  del sys.path[0]\n"
          ]
        },
        {
          "output_type": "stream",
          "name": "stdout",
          "text": [
            "0      1\n",
            "1      1\n",
            "2      1\n",
            "3      1\n",
            "4      1\n",
            "      ..\n",
            "564    1\n",
            "565    1\n",
            "566    1\n",
            "567    1\n",
            "568    0\n",
            "Name: diag, Length: 569, dtype: int64\n",
            "count    569.000000\n",
            "mean       0.372583\n",
            "std        0.483918\n",
            "min        0.000000\n",
            "25%        0.000000\n",
            "50%        0.000000\n",
            "75%        1.000000\n",
            "max        1.000000\n",
            "Name: diag, dtype: float64\n"
          ]
        }
      ]
    },
    {
      "cell_type": "code",
      "source": [
        "#Eliminamos la columna \"id\" por ser irrelevante al desarrollo de un clasificador \n",
        "#hacemos la separación en grupos de testeo y entrenamiento utilizando todos los atributos disponibles."
      ],
      "metadata": {
        "id": "bncJrrAmBjFs"
      },
      "execution_count": 14,
      "outputs": []
    },
    {
      "cell_type": "code",
      "source": [
        "del tum[\"id\"]\n",
        "del tum[\"diagnosis\"]\n",
        "del tum[\"Unnamed: 32\"]\n",
        "print(tum.shape)"
      ],
      "metadata": {
        "colab": {
          "base_uri": "https://localhost:8080/"
        },
        "id": "-Rr5O4MnBlfl",
        "outputId": "7ee7d76c-5aee-4257-dbc2-4f50c0d0df6e"
      },
      "execution_count": 15,
      "outputs": [
        {
          "output_type": "stream",
          "name": "stdout",
          "text": [
            "(569, 31)\n"
          ]
        }
      ]
    },
    {
      "cell_type": "code",
      "source": [
        "#mportamos las bibliotecas necesarias para crear los grupos de entrenamiento (70% del n total) y testeo (30% del n total)."
      ],
      "metadata": {
        "id": "wrDoMVzOCFtF"
      },
      "execution_count": 16,
      "outputs": []
    },
    {
      "cell_type": "code",
      "source": [
        "from sklearn.model_selection import train_test_split    \n",
        "\n",
        "datfr = tum.drop(columns='diag')\n",
        "print(datfr.shape)\n",
        "target = tum['diag']\n",
        "\n",
        "train_tum, test_tum, train_targ, test_targ = train_test_split(datfr, target, test_size=0.3)\n",
        "print(train_tum.shape)\n",
        "print(train_targ.shape)"
      ],
      "metadata": {
        "colab": {
          "base_uri": "https://localhost:8080/"
        },
        "id": "-nuXjqwQCNrM",
        "outputId": "1adeec8a-b30c-4b51-e15d-a81d9bb4156c"
      },
      "execution_count": 17,
      "outputs": [
        {
          "output_type": "stream",
          "name": "stdout",
          "text": [
            "(569, 30)\n",
            "(398, 30)\n",
            "(398,)\n"
          ]
        }
      ]
    },
    {
      "cell_type": "code",
      "source": [
        "#Aplicamos un modelo de clasificación por regresión logística.\n",
        "\n",
        "from sklearn.linear_model import LogisticRegression\n",
        "\n",
        "logreg2 = LogisticRegression(solver='lbfgs',max_iter=1000)\n",
        "logreg2.fit(train_tum,train_targ)"
      ],
      "metadata": {
        "colab": {
          "base_uri": "https://localhost:8080/"
        },
        "id": "MAy7Gh7yCSh8",
        "outputId": "0421101b-1a96-4d3d-8f96-11f5ff40a4a1"
      },
      "execution_count": 18,
      "outputs": [
        {
          "output_type": "stream",
          "name": "stderr",
          "text": [
            "/usr/local/lib/python3.7/dist-packages/sklearn/linear_model/_logistic.py:818: ConvergenceWarning: lbfgs failed to converge (status=1):\n",
            "STOP: TOTAL NO. of ITERATIONS REACHED LIMIT.\n",
            "\n",
            "Increase the number of iterations (max_iter) or scale the data as shown in:\n",
            "    https://scikit-learn.org/stable/modules/preprocessing.html\n",
            "Please also refer to the documentation for alternative solver options:\n",
            "    https://scikit-learn.org/stable/modules/linear_model.html#logistic-regression\n",
            "  extra_warning_msg=_LOGISTIC_SOLVER_CONVERGENCE_MSG,\n"
          ]
        },
        {
          "output_type": "execute_result",
          "data": {
            "text/plain": [
              "LogisticRegression(max_iter=1000)"
            ]
          },
          "metadata": {},
          "execution_count": 18
        }
      ]
    },
    {
      "cell_type": "code",
      "source": [
        "#Aplicamos un modelo de clasificación por LDA y evaluamos su performance.\n",
        "from sklearn.discriminant_analysis import LinearDiscriminantAnalysis\n",
        "from sklearn import metrics\n",
        "\n",
        "lda = LinearDiscriminantAnalysis(solver='svd')\n",
        "lda.fit(train_tum,train_targ)\n",
        "\n",
        "pred1 = lda.predict(test_tum)\n",
        "acc1 = metrics.accuracy_score(test_targ,pred1)\n",
        "prec1 = metrics.precision_score(test_targ,pred1)\n",
        "f_mes1 =metrics.f1_score(test_targ,pred1)\n",
        "\n",
        "print('La exactitud del modelo fue:',acc1)\n",
        "print('La precisión del modelo fue:',prec1)\n",
        "print('El valor de f-measure fue:',f_mes1)"
      ],
      "metadata": {
        "colab": {
          "base_uri": "https://localhost:8080/"
        },
        "id": "te9h1x8ZEdUD",
        "outputId": "a0697371-82a7-4de4-bd9b-dc58d7975d6a"
      },
      "execution_count": 20,
      "outputs": [
        {
          "output_type": "stream",
          "name": "stdout",
          "text": [
            "La exactitud del modelo fue: 0.9415204678362573\n",
            "La precisión del modelo fue: 0.9836065573770492\n",
            "El valor de f-measure fue: 0.923076923076923\n"
          ]
        }
      ]
    },
    {
      "cell_type": "code",
      "source": [
        "#Hacemos una validación cruzada para evaluar los resultados del modelo LDA respecto a la partición de la información del dataset.\n",
        "from sklearn.model_selection import cross_val_score\n",
        "from sklearn.model_selection import RepeatedStratifiedKFold\n",
        "\n",
        "cv1 = RepeatedStratifiedKFold(n_splits=10, n_repeats=3, random_state=1)\n",
        "scores1 = cross_val_score(lda, train_tum, train_targ, scoring='accuracy', cv=cv1, n_jobs=-1)\n",
        "print('La media de la exactitud es:',(np.mean(scores1)))\n",
        "print('La desviación standar de la exactitud es:',(np.std(scores1)))"
      ],
      "metadata": {
        "colab": {
          "base_uri": "https://localhost:8080/"
        },
        "id": "9FwMEWijEwB-",
        "outputId": "78d2a180-0219-447c-da56-b8b2939f3ec0"
      },
      "execution_count": 21,
      "outputs": [
        {
          "output_type": "stream",
          "name": "stdout",
          "text": [
            "La media de la exactitud es: 0.9597863247863248\n",
            "La desviación standar de la exactitud es: 0.02716312064346681\n"
          ]
        }
      ]
    },
    {
      "cell_type": "code",
      "source": [
        "#Visualizamos los resultados del modelo con LDA graficando la matriz de confusión.\n",
        "\n",
        "import seaborn as sns\n",
        "\n",
        "mtx0=metrics.confusion_matrix(test_targ,pred1)\n",
        "print(mtx0)\n",
        "\n",
        "clases=[0,1]           #Benigno=0  Maligno=1\n",
        "fig,ax = plt.subplots()\n",
        "referencias = np.arange(len(clases))\n",
        "plt.xticks(referencias, clases)\n",
        "plt.yticks(referencias, clases)\n",
        "\n",
        "sns.heatmap(pd.DataFrame(mtx0), annot=True, cmap=\"YlGnBu\" ,fmt='g')\n",
        "ax.xaxis.set_label_position(\"top\")\n",
        "plt.tight_layout()\n",
        "plt.title('Matriz de confusión')\n",
        "plt.ylabel('Clase Real')\n",
        "plt.xlabel('Clase Predicha')"
      ],
      "metadata": {
        "colab": {
          "base_uri": "https://localhost:8080/",
          "height": 375
        },
        "id": "sTcvhbVAE42M",
        "outputId": "599e55c0-8daa-4677-a04f-751658dee450"
      },
      "execution_count": 22,
      "outputs": [
        {
          "output_type": "stream",
          "name": "stdout",
          "text": [
            "[[101   1]\n",
            " [  9  60]]\n"
          ]
        },
        {
          "output_type": "execute_result",
          "data": {
            "text/plain": [
              "Text(0.5, 257.44, 'Clase Predicha')"
            ]
          },
          "metadata": {},
          "execution_count": 22
        },
        {
          "output_type": "display_data",
          "data": {
            "text/plain": [
              "<Figure size 432x288 with 2 Axes>"
            ],
            "image/png": "[encoded data removed]"
          },
          "metadata": {
            "needs_background": "light"
          }
        }
      ]
    },
    {
      "cell_type": "code",
      "source": [
        "#Aplicamos un modelo de clasificación por k-nn y evaluamos su performance.\n",
        "\n",
        "from sklearn import neighbors\n",
        "\n",
        "k2=25   #Se tomo como parámetro inicial la raíz cuadrada de n (23) y se corrió a 25 (a prueba y error)\n",
        "knn2 = neighbors.KNeighborsClassifier(n_neighbors=k2)\n",
        "knn2.fit(train_tum,train_targ)\n",
        "\n",
        "pred2 = knn2.predict(test_tum)\n",
        "acc2 = metrics.accuracy_score(test_targ,pred2)\n",
        "prec2 = metrics.precision_score(test_targ,pred2)\n",
        "f_mes2 =metrics.f1_score(test_targ,pred2)\n",
        "\n",
        "print('La exactitud del modelo fue:',acc2)\n",
        "print('La precisión del modelo fue:',prec2)\n",
        "print('El valor de f-measure fue:',f_mes2)"
      ],
      "metadata": {
        "colab": {
          "base_uri": "https://localhost:8080/"
        },
        "id": "FLShj77FFEf0",
        "outputId": "26970c9e-0d54-4410-ca01-09524f3b1ce8"
      },
      "execution_count": 23,
      "outputs": [
        {
          "output_type": "stream",
          "name": "stdout",
          "text": [
            "La exactitud del modelo fue: 0.9122807017543859\n",
            "La precisión del modelo fue: 0.95\n",
            "El valor de f-measure fue: 0.8837209302325583\n"
          ]
        }
      ]
    },
    {
      "cell_type": "code",
      "source": [
        "# validación cruzada para evaluar los resultados del modelo K-NN respecto a la partición de la información del dataset.\n",
        "\n",
        "cv2 = RepeatedStratifiedKFold(n_splits=10, n_repeats=3, random_state=1)\n",
        "scores2 = cross_val_score(knn2, train_tum, train_targ, scoring='accuracy', cv=cv2, n_jobs=-1)\n",
        "print('La media de la exactitud es:',(np.mean(scores2)))\n",
        "print('La desviación standar de la exactitud es:',(np.std(scores2)))"
      ],
      "metadata": {
        "colab": {
          "base_uri": "https://localhost:8080/"
        },
        "id": "i05xdL5DGpWM",
        "outputId": "4988a319-041d-4ff7-b7bc-ff067e8abbd0"
      },
      "execution_count": 24,
      "outputs": [
        {
          "output_type": "stream",
          "name": "stdout",
          "text": [
            "La media de la exactitud es: 0.920363247863248\n",
            "La desviación standar de la exactitud es: 0.04058176114246655\n"
          ]
        }
      ]
    },
    {
      "cell_type": "code",
      "source": [
        "#Visualizamos los resultados del modelo con K-NN graficando la matriz de confusión.\n",
        "\n",
        "from sklearn.metrics import confusion_matrix\n",
        "\n",
        "mtx1=metrics.confusion_matrix(test_targ,pred2)\n",
        "print(mtx1)\n",
        "\n",
        "clases=[0,1]           #Benigno=0  Maligno=1\n",
        "fig,ax = plt.subplots()\n",
        "referencias = np.arange(len(clases))\n",
        "plt.xticks(referencias, clases)\n",
        "plt.yticks(referencias, clases)\n",
        "\n",
        "sns.heatmap(pd.DataFrame(mtx1), annot=True, cmap=\"YlGnBu\" ,fmt='g')\n",
        "ax.xaxis.set_label_position(\"top\")\n",
        "plt.tight_layout()\n",
        "plt.title('Matriz de confusión')\n",
        "plt.ylabel('Clase Real')\n",
        "plt.xlabel('Clase Predicha')"
      ],
      "metadata": {
        "colab": {
          "base_uri": "https://localhost:8080/",
          "height": 377
        },
        "id": "Abo9YwPRGxnT",
        "outputId": "3a03fe33-7fe1-44b4-da5a-3aab1723cb54"
      },
      "execution_count": 25,
      "outputs": [
        {
          "output_type": "stream",
          "name": "stdout",
          "text": [
            "[[99  3]\n",
            " [12 57]]\n"
          ]
        },
        {
          "output_type": "execute_result",
          "data": {
            "text/plain": [
              "Text(0.5, 257.44, 'Clase Predicha')"
            ]
          },
          "metadata": {},
          "execution_count": 25
        },
        {
          "output_type": "display_data",
          "data": {
            "text/plain": [
              "<Figure size 432x288 with 2 Axes>"
            ],
            "image/png": "[encoded data removed]"
          },
          "metadata": {
            "needs_background": "light"
          }
        }
      ]
    },
    {
      "cell_type": "code",
      "source": [
        "#Aplicamos un modelo de clasificación por SVM con un kernel lineal y evaluamos su performance.\n",
        "from sklearn import svm\n",
        "\n",
        "svm = svm.SVC(kernel='linear' , gamma='auto')\n",
        "svm.fit(train_tum,train_targ)\n",
        "\n",
        "pred3 = svm.predict(test_tum)\n",
        "acc3 = metrics.accuracy_score(test_targ,pred3)\n",
        "prec3 = metrics.precision_score(test_targ,pred3)\n",
        "f_mes3 =metrics.f1_score(test_targ,pred3)\n",
        "\n",
        "print('La exactitud del modelo fue:',acc3)\n",
        "print('La precisión del modelo fue:',prec3)\n",
        "print('El valor de f-measure fue:',f_mes3)"
      ],
      "metadata": {
        "colab": {
          "base_uri": "https://localhost:8080/"
        },
        "id": "PpUv92_XG5ST",
        "outputId": "d25a02db-ecf5-4643-cd15-5a71ee551dce"
      },
      "execution_count": 26,
      "outputs": [
        {
          "output_type": "stream",
          "name": "stdout",
          "text": [
            "La exactitud del modelo fue: 0.9473684210526315\n",
            "La precisión del modelo fue: 0.9838709677419355\n",
            "El valor de f-measure fue: 0.9312977099236642\n"
          ]
        }
      ]
    },
    {
      "cell_type": "code",
      "source": [
        "#Hacemos una validación cruzada para evaluar los resultados del modelo SVM respecto a la partición de la información del dataset.\n",
        "cv3 = RepeatedStratifiedKFold(n_splits=10, n_repeats=3, random_state=1)\n",
        "scores3 = cross_val_score(svm, train_tum, train_targ, scoring='accuracy', cv=cv3, n_jobs=-1)\n",
        "print('La media de la exactitud es:',(np.mean(scores3)))\n",
        "print('La desviación standar de la exactitud es:',(np.std(scores3)))"
      ],
      "metadata": {
        "colab": {
          "base_uri": "https://localhost:8080/"
        },
        "id": "8KLQo7mLI1et",
        "outputId": "746ff9c3-875a-4313-f439-5dccfb290fad"
      },
      "execution_count": 27,
      "outputs": [
        {
          "output_type": "stream",
          "name": "stdout",
          "text": [
            "La media de la exactitud es: 0.9488034188034188\n",
            "La desviación standar de la exactitud es: 0.040994824608457686\n"
          ]
        }
      ]
    },
    {
      "cell_type": "code",
      "source": [
        "#Visualizamos los resultados del modelo con SVM graficando la matriz de confusión.\n",
        "mtx2=metrics.confusion_matrix(test_targ,pred3)\n",
        "print(mtx2)\n",
        "\n",
        "clases=[0,1]          #Benigno=0  Maligno=1\n",
        "fig,ax = plt.subplots()\n",
        "referencias = np.arange(len(clases))\n",
        "plt.xticks(referencias, clases)\n",
        "plt.yticks(referencias, clases)\n",
        "\n",
        "sns.heatmap(pd.DataFrame(mtx2), annot=True, cmap=\"YlGnBu\" ,fmt='g')\n",
        "ax.xaxis.set_label_position(\"top\")\n",
        "plt.tight_layout()\n",
        "plt.title('Matriz de confusión')\n",
        "plt.ylabel('Clase Real')\n",
        "plt.xlabel('Clase Predicha')"
      ],
      "metadata": {
        "colab": {
          "base_uri": "https://localhost:8080/",
          "height": 375
        },
        "id": "92RLEyGxI7tU",
        "outputId": "652916d3-995f-445e-ac95-84f3301f0e03"
      },
      "execution_count": 29,
      "outputs": [
        {
          "output_type": "stream",
          "name": "stdout",
          "text": [
            "[[101   1]\n",
            " [  8  61]]\n"
          ]
        },
        {
          "output_type": "execute_result",
          "data": {
            "text/plain": [
              "Text(0.5, 257.44, 'Clase Predicha')"
            ]
          },
          "metadata": {},
          "execution_count": 29
        },
        {
          "output_type": "display_data",
          "data": {
            "text/plain": [
              "<Figure size 432x288 with 2 Axes>"
            ],
            "image/png": "[encoded data removed]"
          },
          "metadata": {
            "needs_background": "light"
          }
        }
      ]
    },
    {
      "cell_type": "code",
      "source": [
        "#Aplicamos un modelo de clasificación por Decision Tree y evaluamos su performance.\n",
        "\n",
        "from sklearn import tree\n",
        "\n",
        "dt = tree.DecisionTreeClassifier()\n",
        "dt = dt.fit(train_tum,train_targ)\n",
        "\n",
        "pred4 = dt.predict(test_tum)\n",
        "tree.plot_tree(dt)\n",
        "\n",
        "acc4 = metrics.accuracy_score(test_targ,pred4)\n",
        "prec4 = metrics.precision_score(test_targ,pred4)\n",
        "f_mes4 =metrics.f1_score(test_targ,pred4)\n",
        "\n",
        "print('La exactitud del modelo fue:',acc4)\n",
        "print('La precisión del modelo fue:',prec4)\n",
        "print('El valor de f-measure fue:',f_mes4)"
      ],
      "metadata": {
        "colab": {
          "base_uri": "https://localhost:8080/",
          "height": 300
        },
        "id": "aUGMFnGiJHm7",
        "outputId": "de6eb449-4f78-41be-affa-3eb9cb672a57"
      },
      "execution_count": 30,
      "outputs": [
        {
          "output_type": "stream",
          "name": "stdout",
          "text": [
            "La exactitud del modelo fue: 0.9415204678362573\n",
            "La precisión del modelo fue: 0.9682539682539683\n",
            "El valor de f-measure fue: 0.9242424242424243\n"
          ]
        },
        {
          "output_type": "display_data",
          "data": {
            "text/plain": [
              "<Figure size 432x288 with 1 Axes>"
            ],
            "image/png": "[encoded data removed]"
          },
          "metadata": {
            "needs_background": "light"
          }
        }
      ]
    },
    {
      "cell_type": "code",
      "source": [
        "#Hacemos una validación cruzada para evaluar los resultados del modelo Decision Tree respecto a la partición de la información del dataset.\n",
        "\n",
        "cv4 = RepeatedStratifiedKFold(n_splits=10, n_repeats=3, random_state=1)\n",
        "scores4 = cross_val_score(dt, train_tum, train_targ, scoring='accuracy', cv=cv4, n_jobs=-1)\n",
        "print('La media de la exactitud es:',(np.mean(scores4)))\n",
        "print('La desviación standar de la exactitud es:',(np.std(scores4)))"
      ],
      "metadata": {
        "colab": {
          "base_uri": "https://localhost:8080/"
        },
        "id": "mzJ3d0DgJSIb",
        "outputId": "a30932f1-1d4d-40e8-bc71-1763ebea99fb"
      },
      "execution_count": 31,
      "outputs": [
        {
          "output_type": "stream",
          "name": "stdout",
          "text": [
            "La media de la exactitud es: 0.9313888888888889\n",
            "La desviación standar de la exactitud es: 0.03154188507812332\n"
          ]
        }
      ]
    },
    {
      "cell_type": "code",
      "source": [
        "#Visualizamos los resultados del modelo de Decision Tree graficando la matriz de confusión.\n",
        "\n",
        "mtx3=metrics.confusion_matrix(test_targ,pred4)\n",
        "print(mtx3)\n",
        "\n",
        "clases=[0,1]          #Benigno=0  Maligno=1\n",
        "fig,ax = plt.subplots()\n",
        "referencias = np.arange(len(clases))\n",
        "plt.xticks(referencias, clases)\n",
        "plt.yticks(referencias, clases)\n",
        "\n",
        "sns.heatmap(pd.DataFrame(mtx3), annot=True, cmap=\"YlGnBu\" ,fmt='g')\n",
        "ax.xaxis.set_label_position(\"top\")\n",
        "plt.tight_layout()\n",
        "plt.title('Matriz de confusión')\n",
        "plt.ylabel('Clase Real')\n",
        "plt.xlabel('Clase Predicha')\n"
      ],
      "metadata": {
        "colab": {
          "base_uri": "https://localhost:8080/",
          "height": 373
        },
        "id": "IvLzn22gJbAM",
        "outputId": "ba97fe11-904f-4648-e1a9-a574f72a98de"
      },
      "execution_count": 32,
      "outputs": [
        {
          "output_type": "stream",
          "name": "stdout",
          "text": [
            "[[100   2]\n",
            " [  8  61]]\n"
          ]
        },
        {
          "output_type": "execute_result",
          "data": {
            "text/plain": [
              "Text(0.5, 257.44, 'Clase Predicha')"
            ]
          },
          "metadata": {},
          "execution_count": 32
        },
        {
          "output_type": "display_data",
          "data": {
            "text/plain": [
              "<Figure size 432x288 with 2 Axes>"
            ],
            "image/png": "[encoded data removed]"
          },
          "metadata": {
            "needs_background": "light"
          }
        }
      ]
    },
    {
      "cell_type": "code",
      "source": [
        "#Aplicamos un modelo de clasificación de Perceptrones multicapa y evaluamos su performance.\n",
        "from sklearn.neural_network import MLPClassifier\n",
        "\n",
        "mlp = MLPClassifier(alpha=0.001, max_iter=500)\n",
        "mlp = mlp.fit(train_tum,train_targ)\n",
        "\n",
        "pred5 = mlp.predict(test_tum)\n",
        "acc5 = metrics.accuracy_score(test_targ,pred5)\n",
        "prec5 = metrics.precision_score(test_targ,pred5)\n",
        "f_mes5 =metrics.f1_score(test_targ,pred5)\n",
        "\n",
        "print('La exactitud del modelo fue:',acc5)\n",
        "print('La precisión del modelo fue:',prec5)\n",
        "print('El valor de f-measure fue:',f_mes5)"
      ],
      "metadata": {
        "colab": {
          "base_uri": "https://localhost:8080/"
        },
        "id": "TdKdl42iJjVx",
        "outputId": "be75f170-896f-4f0c-c243-865a1ecf10ad"
      },
      "execution_count": 33,
      "outputs": [
        {
          "output_type": "stream",
          "name": "stdout",
          "text": [
            "La exactitud del modelo fue: 0.9298245614035088\n",
            "La precisión del modelo fue: 0.9523809523809523\n",
            "El valor de f-measure fue: 0.909090909090909\n"
          ]
        }
      ]
    },
    {
      "cell_type": "code",
      "source": [
        "#Hacemos una validación cruzada para evaluar los resultados del modelo MLP respecto a la partición de la información del dataset.\n",
        "\n",
        "cv5 = RepeatedStratifiedKFold(n_splits=10, n_repeats=3, random_state=1)\n",
        "scores5 = cross_val_score(mlp, train_tum, train_targ, scoring='accuracy', cv=cv5, n_jobs=-1)\n",
        "print('La media de la exactitud es:',(np.mean(scores5)))\n",
        "print('La desviación standar de la exactitud es:',(np.std(scores5)))"
      ],
      "metadata": {
        "colab": {
          "base_uri": "https://localhost:8080/"
        },
        "id": "Xj86YP_7JqhT",
        "outputId": "5ca1f9cb-7cb9-4c86-fc80-d0c2f22571aa"
      },
      "execution_count": 34,
      "outputs": [
        {
          "output_type": "stream",
          "name": "stdout",
          "text": [
            "La media de la exactitud es: 0.9280128205128207\n",
            "La desviación standar de la exactitud es: 0.042202390970630534\n"
          ]
        }
      ]
    },
    {
      "cell_type": "code",
      "source": [
        "#Visualizamos los resultados del modelo de Perceptrones graficando la matriz de confusión.\n",
        "\n",
        "mtx4=metrics.confusion_matrix(test_targ,pred5)\n",
        "print(mtx4)\n",
        "\n",
        "clases=[0,1]          #Benigno=0  Maligno=1\n",
        "fig,ax = plt.subplots()\n",
        "referencias = np.arange(len(clases))\n",
        "plt.xticks(referencias, clases)\n",
        "plt.yticks(referencias, clases)\n",
        "\n",
        "sns.heatmap(pd.DataFrame(mtx4), annot=True, cmap=\"YlGnBu\" ,fmt='g')\n",
        "ax.xaxis.set_label_position(\"top\")\n",
        "plt.tight_layout()\n",
        "plt.title('Matriz de confusión')\n",
        "plt.ylabel('Clase Real')\n",
        "plt.xlabel('Clase Predicha')"
      ],
      "metadata": {
        "colab": {
          "base_uri": "https://localhost:8080/",
          "height": 377
        },
        "id": "cyKRsUYKLWXr",
        "outputId": "9da18c6e-2217-4147-9117-79871cec5d0a"
      },
      "execution_count": 35,
      "outputs": [
        {
          "output_type": "stream",
          "name": "stdout",
          "text": [
            "[[99  3]\n",
            " [ 9 60]]\n"
          ]
        },
        {
          "output_type": "execute_result",
          "data": {
            "text/plain": [
              "Text(0.5, 257.44, 'Clase Predicha')"
            ]
          },
          "metadata": {},
          "execution_count": 35
        },
        {
          "output_type": "display_data",
          "data": {
            "text/plain": [
              "<Figure size 432x288 with 2 Axes>"
            ],
            "image/png": "[encoded data removed]"
          },
          "metadata": {
            "needs_background": "light"
          }
        }
      ]
    }
  ]
}