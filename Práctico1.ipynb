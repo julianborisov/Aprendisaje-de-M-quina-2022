{
  "nbformat": 4,
  "nbformat_minor": 0,
  "metadata": {
    "colab": {
      "name": "Práctico1.ipynb",
      "provenance": [],
      "toc_visible": true,
      "authorship_tag": "ABX9TyNPZW7sLDOw+IejNF8wO87w",
      "include_colab_link": true
    },
    "kernelspec": {
      "name": "python3",
      "display_name": "Python 3"
    },
    "language_info": {
      "name": "python"
    }
  },
  "cells": [
    {
      "cell_type": "markdown",
      "metadata": {
        "id": "view-in-github",
        "colab_type": "text"
      },
      "source": [
        "<a href=\"https://colab.research.google.com/github/julianborisov/Aprendisaje-de-M-quina-2022/blob/main/Pr%C3%A1ctico1.ipynb\" target=\"_parent\"><img src=\"https://colab.research.google.com/assets/colab-badge.svg\" alt=\"Open In Colab\"/></a>"
      ]
    },
    {
      "cell_type": "code",
      "execution_count": null,
      "metadata": {
        "id": "ujmDa_UOCJyU"
      },
      "outputs": [],
      "source": [
        "#Ejercicio 1\n",
        "#Inicializamos las bibliotecas:\n",
        "import pandas as pd\n",
        "import seaborn as sns \n",
        "import numpy as np\n",
        "import matplotlib.pyplot as plt\n"
      ]
    },
    {
      "cell_type": "code",
      "source": [
        "#abro un dataset y lo visualizo \n",
        "datas = pd.read_csv('https://raw.githubusercontent.com/manlio99/Materia-de-aprendizaje/master/4_DataWrangling/data/casos_covid_bahia.csv', header=0, sep=\",\")\n",
        "print(datas.shape)\n",
        "print(datas)"
      ],
      "metadata": {
        "colab": {
          "base_uri": "https://localhost:8080/"
        },
        "id": "7HyRXE6nCwMX",
        "outputId": "933bacdc-d444-4d90-dde2-d1b5df443883"
      },
      "execution_count": null,
      "outputs": [
        {
          "output_type": "stream",
          "name": "stdout",
          "text": [
            "(88, 11)\n",
            "         fecha  confirmados  activos  recuperados  decesos  descartados  \\\n",
            "0   2020-06-30          106       29           71        6          574   \n",
            "1   2020-07-01          114       31           77        6          581   \n",
            "2   2020-07-02          124       40           78        6          588   \n",
            "3   2020-07-03          137       53           78        6          606   \n",
            "4   2020-07-04          154       70           78        6          622   \n",
            "..         ...          ...      ...          ...      ...          ...   \n",
            "83  2020-09-21         2589     1319         1209       61         3557   \n",
            "84  2020-09-22         2714     1371         1282       61         3615   \n",
            "85  2020-09-23         2841     1464         1313       64         3658   \n",
            "86  2020-09-24         2906     1474         1366       66         3682   \n",
            "87  2020-09-25         3012     1512         1434       66         3738   \n",
            "\n",
            "    sospechosos  contencion_psicologica  monitoreo_epidemiologico  \\\n",
            "0            23                     342                      2338   \n",
            "1            22                     342                      2207   \n",
            "2            24                     356                      2162   \n",
            "3            31                     356                      2353   \n",
            "4            31                     356                      2377   \n",
            "..          ...                     ...                       ...   \n",
            "83          303                     417                      1261   \n",
            "84          292                     417                      1197   \n",
            "85          286                     417                      1206   \n",
            "86          331                     417                      1221   \n",
            "87          298                     417                      1168   \n",
            "\n",
            "    aislamiento_por_contacto_estrecho  aprehendidos  \n",
            "0                                 181             0  \n",
            "1                                 172             0  \n",
            "2                                 176             0  \n",
            "3                                 190             0  \n",
            "4                                 214             0  \n",
            "..                                ...           ...  \n",
            "83                                510             0  \n",
            "84                                554             0  \n",
            "85                                562             0  \n",
            "86                                562             0  \n",
            "87                                625             0  \n",
            "\n",
            "[88 rows x 11 columns]\n"
          ]
        }
      ]
    },
    {
      "cell_type": "code",
      "source": [
        "  #Calculamos variables estadísticas básicas (media, desvío estandar, etc\n",
        "  print(datas.describe())"
      ],
      "metadata": {
        "colab": {
          "base_uri": "https://localhost:8080/"
        },
        "id": "-iSB1RbFC1Oh",
        "outputId": "e16a08c6-497b-4f31-f8ed-fe0ab26b476f"
      },
      "execution_count": null,
      "outputs": [
        {
          "output_type": "stream",
          "name": "stdout",
          "text": [
            "       confirmados      activos  recuperados    decesos  descartados  \\\n",
            "count    88.000000    88.000000    88.000000  88.000000    88.000000   \n",
            "mean    944.977273   403.738636   516.238636  25.000000  2007.647727   \n",
            "std     741.951512   377.382561   369.502430  16.613248   951.537510   \n",
            "min     106.000000    29.000000    71.000000   6.000000   574.000000   \n",
            "25%     422.000000   201.250000   164.000000  13.000000  1159.250000   \n",
            "50%     706.500000   238.000000   502.000000  20.000000  1999.500000   \n",
            "75%    1262.750000   487.750000   742.250000  32.750000  2794.500000   \n",
            "max    3012.000000  1512.000000  1434.000000  66.000000  3738.000000   \n",
            "\n",
            "       sospechosos  contencion_psicologica  monitoreo_epidemiologico  \\\n",
            "count    88.000000               88.000000                 88.000000   \n",
            "mean    157.613636              407.295455               1360.386364   \n",
            "std     101.144080               21.174241                289.810181   \n",
            "min      22.000000              342.000000               1014.000000   \n",
            "25%      96.000000              417.000000               1215.000000   \n",
            "50%     122.000000              417.000000               1280.000000   \n",
            "75%     232.250000              417.000000               1374.750000   \n",
            "max     382.000000              417.000000               2377.000000   \n",
            "\n",
            "       aislamiento_por_contacto_estrecho  aprehendidos  \n",
            "count                          88.000000          88.0  \n",
            "mean                          287.920455           0.0  \n",
            "std                           113.161691           0.0  \n",
            "min                           169.000000           0.0  \n",
            "25%                           206.250000           0.0  \n",
            "50%                           246.500000           0.0  \n",
            "75%                           370.500000           0.0  \n",
            "max                           625.000000           0.0  \n"
          ]
        }
      ]
    },
    {
      "cell_type": "code",
      "source": [
        "#Graficamos el histograma y boxplot de distintas variables del dataset para poder hacer un análisis visual de la información contenida:"
      ],
      "metadata": {
        "id": "GFHtaObxDqvQ"
      },
      "execution_count": null,
      "outputs": []
    },
    {
      "cell_type": "code",
      "source": [
        "graf1=datas['confirmados'].hist()\n",
        "plt.show(graf1)\n",
        "graf2=sns.boxplot(y=datas['confirmados'])\n",
        "plt.show(graf2)\n",
        "graf3=datas['confirmados'].plot()\n",
        "plt.show(graf3)"
      ],
      "metadata": {
        "colab": {
          "base_uri": "https://localhost:8080/",
          "height": 748
        },
        "id": "5y4kIYT1D1ut",
        "outputId": "a3c09ab5-4af4-477b-da87-e7311c4036fb"
      },
      "execution_count": null,
      "outputs": [
        {
          "output_type": "display_data",
          "data": {
            "text/plain": [
              "<Figure size 432x288 with 1 Axes>"
            ],
            "image/png": "[encoded data removed]"
          },
          "metadata": {
            "needs_background": "light"
          }
        },
        {
          "output_type": "display_data",
          "data": {
            "text/plain": [
              "<Figure size 432x288 with 1 Axes>"
            ],
            "image/png": "[encoded data removed]"
          },
          "metadata": {
            "needs_background": "light"
          }
        },
        {
          "output_type": "display_data",
          "data": {
            "text/plain": [
              "<Figure size 432x288 with 1 Axes>"
            ],
            "image/png": "[encoded data removed]"
          },
          "metadata": {
            "needs_background": "light"
          }
        }
      ]
    },
    {
      "cell_type": "code",
      "source": [
        "#Respuestas sobre el primer dataset:\n",
        "#Las observaciones del dataset son acumulativas. Para tener un mejor analisis habría que obtener el conteo diario de las distintas variables/atributos.\n",
        "#No se puede determinar directamente si la distribución de las observaciones es normal o Gaussiana debido al caracter acumulativo, y aún obteniendo el conteo diario no cumplen con algunas condiciones básicas como pueden ser:\n",
        "#Ser simétricas respecto a la media.\n",
        "#Tener el máximo en la media.\n",
        "#Crece hasta la media y decrece a partir de ella"
      ],
      "metadata": {
        "id": "WbH4NCfjEN-X"
      },
      "execution_count": null,
      "outputs": []
    },
    {
      "cell_type": "code",
      "source": [
        "#Repuestas sobre el segundo dataset:"
      ],
      "metadata": {
        "id": "dIHf4RqQEhtQ"
      },
      "execution_count": null,
      "outputs": []
    },
    {
      "cell_type": "code",
      "source": [
        ""
      ],
      "metadata": {
        "id": "vOvl0Zq6ExIv"
      },
      "execution_count": null,
      "outputs": []
    },
    {
      "cell_type": "code",
      "source": [
        "#abro el segundo dataset y lo visualizo \n",
        "datas1 = pd.read_csv('https://raw.githubusercontent.com/manlio99/Materia-de-aprendizaje/master/4_DataWrangling/data/camas_covid_bahia.csv', header=0, sep=\",\")\n",
        "print(datas1.shape)\n",
        "print(datas1)"
      ],
      "metadata": {
        "colab": {
          "base_uri": "https://localhost:8080/"
        },
        "outputId": "1d2e8ac7-065a-489d-fba8-b2aac56b1c25",
        "id": "4xvotfViExb4"
      },
      "execution_count": null,
      "outputs": [
        {
          "output_type": "stream",
          "name": "stdout",
          "text": [
            "(88, 19)\n",
            "    informeNumero       fecha  total_camas_hospitales  \\\n",
            "0             131  2020-09-25                     848   \n",
            "1             130  2020-09-24                     848   \n",
            "2             129  2020-09-23                     848   \n",
            "3             128  2020-09-22                     848   \n",
            "4             127  2020-09-21                     848   \n",
            "..            ...         ...                     ...   \n",
            "83             10  2020-07-04                     848   \n",
            "84              9  2020-07-03                     848   \n",
            "85              8  2020-07-02                     848   \n",
            "86              7  2020-07-01                     848   \n",
            "87              1  2020-06-30                     848   \n",
            "\n",
            "    camas_ocupadas_hospitales  porcentaje_ocupacion_camas_hospitales  \\\n",
            "0                         401                                     47   \n",
            "1                         391                                     46   \n",
            "2                         402                                     47   \n",
            "3                         391                                     46   \n",
            "4                         368                                     43   \n",
            "..                        ...                                    ...   \n",
            "83                        343                                     40   \n",
            "84                        349                                     41   \n",
            "85                        358                                     42   \n",
            "86                        386                                     45   \n",
            "87                        347                                     40   \n",
            "\n",
            "    camas_covid  camas_sospechosos_covid  camas_confirmados_covid  \\\n",
            "0           163                       42                       84   \n",
            "1           163                       25                       86   \n",
            "2           163                       21                       85   \n",
            "3           163                       30                       83   \n",
            "4           163                       32                       82   \n",
            "..          ...                      ...                      ...   \n",
            "83          155                       14                       14   \n",
            "84          155                       18                       13   \n",
            "85          155                       14                       14   \n",
            "86          155                       12                       12   \n",
            "87          155                       15                       10   \n",
            "\n",
            "    porcentaje_ocupacion_camas_covid  uti_covid_totales  uti_covid_ocupadas  \\\n",
            "0                                 77                 32                  24   \n",
            "1                                 68                 32                  17   \n",
            "2                                 65                 32                  22   \n",
            "3                                 69                 32                  21   \n",
            "4                                 69                 32                  24   \n",
            "..                               ...                ...                 ...   \n",
            "83                                18                 32                   3   \n",
            "84                                20                 32                   4   \n",
            "85                                18                 32                   4   \n",
            "86                                15                 32                   2   \n",
            "87                                16                 32                   1   \n",
            "\n",
            "    respiradores_totales  respiradores_ocupados  respiradores_covid_totales  \\\n",
            "0                    142                     41                          69   \n",
            "1                    142                     39                          69   \n",
            "2                    142                     42                          71   \n",
            "3                    142                     43                          72   \n",
            "4                    142                     40                          72   \n",
            "..                   ...                    ...                         ...   \n",
            "83                   143                     22                           0   \n",
            "84                   143                     25                           0   \n",
            "85                   143                     25                           0   \n",
            "86                   143                     24                           0   \n",
            "87                   143                     23                           0   \n",
            "\n",
            "    respiradores_covid_ocupados  total_camas_ucma  total_camas_ocupadas_ucma  \\\n",
            "0                            25               147                         19   \n",
            "1                            21               147                         21   \n",
            "2                            23               147                         19   \n",
            "3                            24               147                         15   \n",
            "4                            24               147                         10   \n",
            "..                          ...               ...                        ...   \n",
            "83                            0               137                          0   \n",
            "84                            0               137                          0   \n",
            "85                            0               137                          0   \n",
            "86                            0               137                          0   \n",
            "87                            0               137                          0   \n",
            "\n",
            "    sedes_ucma observaciones  \n",
            "0            4           NaN  \n",
            "1            4           NaN  \n",
            "2            4           NaN  \n",
            "3            4           NaN  \n",
            "4            4           NaN  \n",
            "..         ...           ...  \n",
            "83           3           NaN  \n",
            "84           3           NaN  \n",
            "85           3           NaN  \n",
            "86           3           NaN  \n",
            "87           3           NaN  \n",
            "\n",
            "[88 rows x 19 columns]\n"
          ]
        }
      ]
    },
    {
      "cell_type": "code",
      "source": [
        "  #Calculamos variables estadísticas básicas (media, desvío estandar, etc\n",
        "  print(datas1.describe())"
      ],
      "metadata": {
        "colab": {
          "base_uri": "https://localhost:8080/"
        },
        "outputId": "d78f1ecf-0121-433c-cc05-8247c76eac61",
        "id": "0FqpcW6FFIUH"
      },
      "execution_count": null,
      "outputs": [
        {
          "output_type": "stream",
          "name": "stdout",
          "text": [
            "       informeNumero  total_camas_hospitales  camas_ocupadas_hospitales  \\\n",
            "count      88.000000               88.000000                  88.000000   \n",
            "mean       70.670455              817.500000                 350.159091   \n",
            "std        42.113072              155.002113                  77.216502   \n",
            "min         1.000000                0.000000                   0.000000   \n",
            "25%        30.750000              848.000000                 325.750000   \n",
            "50%        87.500000              848.000000                 367.500000   \n",
            "75%       109.250000              848.000000                 391.000000   \n",
            "max       131.000000              851.000000                 450.000000   \n",
            "\n",
            "       porcentaje_ocupacion_camas_hospitales  camas_covid  \\\n",
            "count                              88.000000    88.000000   \n",
            "mean                               40.920455   162.068182   \n",
            "std                                 9.006028    18.349603   \n",
            "min                                 0.000000     0.000000   \n",
            "25%                                38.000000   163.000000   \n",
            "50%                                43.000000   163.000000   \n",
            "75%                                46.000000   163.000000   \n",
            "max                                53.000000   177.000000   \n",
            "\n",
            "       camas_sospechosos_covid  camas_confirmados_covid  \\\n",
            "count                88.000000                88.000000   \n",
            "mean                 19.647727                34.909091   \n",
            "std                   6.586367                21.706843   \n",
            "min                   0.000000                 0.000000   \n",
            "25%                  15.750000                20.000000   \n",
            "50%                  18.000000                25.000000   \n",
            "75%                  23.000000                52.250000   \n",
            "max                  42.000000                86.000000   \n",
            "\n",
            "       porcentaje_ocupacion_camas_covid  uti_covid_totales  \\\n",
            "count                         88.000000          88.000000   \n",
            "mean                          32.795455          31.636364   \n",
            "std                           15.509107           1.598719   \n",
            "min                            0.000000          23.000000   \n",
            "25%                           22.000000          32.000000   \n",
            "50%                           26.500000          32.000000   \n",
            "75%                           44.250000          32.000000   \n",
            "max                           77.000000          33.000000   \n",
            "\n",
            "       uti_covid_ocupadas  respiradores_totales  respiradores_ocupados  \\\n",
            "count           88.000000             88.000000              88.000000   \n",
            "mean             8.170455            137.181818              24.284091   \n",
            "std              7.014307             26.004220               8.541917   \n",
            "min              0.000000              0.000000               0.000000   \n",
            "25%              3.000000            142.000000              20.000000   \n",
            "50%              4.500000            142.000000              25.000000   \n",
            "75%             13.250000            142.000000              28.000000   \n",
            "max             24.000000            143.000000              43.000000   \n",
            "\n",
            "       respiradores_covid_totales  respiradores_covid_ocupados  \\\n",
            "count                   88.000000                    88.000000   \n",
            "mean                    39.943182                     8.386364   \n",
            "std                     27.322408                     7.529912   \n",
            "min                      0.000000                     0.000000   \n",
            "25%                      0.000000                     0.000000   \n",
            "50%                     54.000000                     7.500000   \n",
            "75%                     62.000000                    14.000000   \n",
            "max                     72.000000                    25.000000   \n",
            "\n",
            "       total_camas_ucma  total_camas_ocupadas_ucma  sedes_ucma  \n",
            "count         88.000000                  88.000000   88.000000  \n",
            "mean         144.159091                   5.170455    3.715909  \n",
            "std            4.535648                   4.334363    0.453565  \n",
            "min          137.000000                   0.000000    3.000000  \n",
            "25%          137.000000                   3.000000    3.000000  \n",
            "50%          147.000000                   4.000000    4.000000  \n",
            "75%          147.000000                   6.000000    4.000000  \n",
            "max          147.000000                  21.000000    4.000000  \n"
          ]
        }
      ]
    },
    {
      "cell_type": "code",
      "source": [
        "graf10=datas1['total_camas_hospitales'].hist()\n",
        "plt.show(graf10)\n",
        "graf20=sns.boxplot(y=datas1['total_camas_hospitales'])\n",
        "plt.show(graf20)\n",
        "graf30=datas1['total_camas_hospitales'].plot()\n",
        "plt.show(graf30)"
      ],
      "metadata": {
        "colab": {
          "base_uri": "https://localhost:8080/",
          "height": 748
        },
        "id": "JDcIij0a3iyz",
        "outputId": "7c2cb863-c542-4b08-bbe1-9036e56d0974"
      },
      "execution_count": null,
      "outputs": [
        {
          "output_type": "display_data",
          "data": {
            "text/plain": [
              "<Figure size 432x288 with 1 Axes>"
            ],
            "image/png": "[encoded data removed]"
          },
          "metadata": {
            "needs_background": "light"
          }
        },
        {
          "output_type": "display_data",
          "data": {
            "text/plain": [
              "<Figure size 432x288 with 1 Axes>"
            ],
            "image/png": "[encoded data removed]"
          },
          "metadata": {
            "needs_background": "light"
          }
        },
        {
          "output_type": "display_data",
          "data": {
            "text/plain": [
              "<Figure size 432x288 with 1 Axes>"
            ],
            "image/png": "[encoded data removed]"
          },
          "metadata": {
            "needs_background": "light"
          }
        }
      ]
    },
    {
      "cell_type": "code",
      "source": [
        "graf1=datas1['camas_sospechosos_covid'].hist()\n",
        "plt.show(graf1)\n",
        "graf2=sns.boxplot(y=datas1['camas_sospechosos_covid'])\n",
        "plt.show(graf2)\n",
        "graf3=datas1['camas_sospechosos_covid'].plot()\n",
        "plt.show(graf3)\n",
        "\n"
      ],
      "metadata": {
        "colab": {
          "base_uri": "https://localhost:8080/",
          "height": 751
        },
        "id": "w51VJ_ckFUSw",
        "outputId": "546cccc4-3677-4c86-c894-966e9ed544e6"
      },
      "execution_count": null,
      "outputs": [
        {
          "output_type": "display_data",
          "data": {
            "text/plain": [
              "<Figure size 432x288 with 1 Axes>"
            ],
            "image/png": "[encoded data removed]"
          },
          "metadata": {
            "needs_background": "light"
          }
        },
        {
          "output_type": "display_data",
          "data": {
            "text/plain": [
              "<Figure size 432x288 with 1 Axes>"
            ],
            "image/png": "[encoded data removed]"
          },
          "metadata": {
            "needs_background": "light"
          }
        },
        {
          "output_type": "display_data",
          "data": {
            "text/plain": [
              "<Figure size 432x288 with 1 Axes>"
            ],
            "image/png": "[encoded data removed]"
          },
          "metadata": {
            "needs_background": "light"
          }
        }
      ]
    },
    {
      "cell_type": "code",
      "source": [
        "graf4=datas1['respiradores_ocupados'].hist()\n",
        "plt.show(graf4)\n",
        "graf5=sns.boxplot(y=datas1['respiradores_ocupados'])\n",
        "plt.show(graf5)\n",
        "graf6=datas1['respiradores_ocupados'].plot()\n",
        "plt.show(graf3)"
      ],
      "metadata": {
        "colab": {
          "base_uri": "https://localhost:8080/",
          "height": 751
        },
        "id": "3R5PDkeUH4qu",
        "outputId": "35d6c0e7-56e1-4241-8058-e933619bb9b0"
      },
      "execution_count": null,
      "outputs": [
        {
          "output_type": "display_data",
          "data": {
            "text/plain": [
              "<Figure size 432x288 with 1 Axes>"
            ],
            "image/png": "[encoded data removed]"
          },
          "metadata": {
            "needs_background": "light"
          }
        },
        {
          "output_type": "display_data",
          "data": {
            "text/plain": [
              "<Figure size 432x288 with 1 Axes>"
            ],
            "image/png": "[encoded data removed]"
          },
          "metadata": {
            "needs_background": "light"
          }
        },
        {
          "output_type": "display_data",
          "data": {
            "text/plain": [
              "<Figure size 432x288 with 1 Axes>"
            ],
            "image/png": "[encoded data removed]"
          },
          "metadata": {
            "needs_background": "light"
          }
        }
      ]
    },
    {
      "cell_type": "code",
      "source": [
        "#Hacemos el mismo análisis exploratorio con el segundo dataset, en este caso la toma de datos/observaciones no son acumulativas.\n",
        "\n",
        "#En el caso de la variable \"total_camas_hospitales\" las observaciones se mantienen relativamente constantes en el tiempo, aunque ciertas observaciones figuran en cero.\n",
        "#Las variables \"camas_sospechosos_covid\" y \"respiradores_ocupados\" son las que presentan una distribución más parecida a la normal o Gaussiana.\n"
      ],
      "metadata": {
        "id": "44m_ZPKqHRPY"
      },
      "execution_count": null,
      "outputs": []
    },
    {
      "cell_type": "code",
      "source": [
        "#Generar un dataset similar al de la pág. 12 de este apunte (dos conjuntos Gaussianos con diferente media y DS, N=50 c/u, uno con etiqueta A y otro con etiqueta B)."
      ],
      "metadata": {
        "id": "b--9weU3q13S"
      },
      "execution_count": null,
      "outputs": []
    },
    {
      "cell_type": "code",
      "source": [
        "#Importamos las herramientas de la biblioteca de scikit learn para generar nuestra curva ROC."
      ],
      "metadata": {
        "id": "JrJDclNuq7fv"
      },
      "execution_count": null,
      "outputs": []
    },
    {
      "cell_type": "code",
      "source": [
        "from sklearn import metrics\n",
        "from sklearn.datasets import make_classification\n",
        "from sklearn.linear_model import LogisticRegression\n",
        "from sklearn.model_selection import train_test_split\n",
        "from sklearn.metrics import roc_curve\n",
        "from sklearn.metrics import roc_auc_score"
      ],
      "metadata": {
        "id": "fABJLqxXrKF4"
      },
      "execution_count": null,
      "outputs": []
    },
    {
      "cell_type": "code",
      "source": [
        "#Creamos 2 conjuntos de datos que sigan una distribución Gaussiana con 50 muestras cada uno, distinta media y desvío.\n",
        "med1,des1,size1=(20,5,50) #media, desvío y n del primer muestreo\n",
        "d1=np.random.normal(med1,des1,size1)\n",
        "a=pd.DataFrame((d1),columns=['var'])\n",
        "a['clase']=0\n",
        "print(a.shape)\n",
        "graf1=plt.hist(d1)\n",
        "plt.show(graf1)\n",
        "\n",
        "med2,des2,size2=(15,2,50) #media, desvío y n del segundo muestreo\n",
        "d2=np.random.normal(med2,des2,size2)\n",
        "b=pd.DataFrame((d2),columns=['var'])\n",
        "b['clase']=1\n",
        "print(b.shape)\n",
        "graf2=plt.hist(d2)\n",
        "plt.show(graf2)\n",
        "\n",
        "dataf=pd.concat([a,b])\n",
        "dataf['var'].describe()"
      ],
      "metadata": {
        "colab": {
          "base_uri": "https://localhost:8080/",
          "height": 704
        },
        "id": "MJPj8aJXrTof",
        "outputId": "4b364d55-5281-489b-fa32-5860cc7a36c8"
      },
      "execution_count": null,
      "outputs": [
        {
          "output_type": "stream",
          "name": "stdout",
          "text": [
            "(50, 2)\n"
          ]
        },
        {
          "output_type": "display_data",
          "data": {
            "text/plain": [
              "<Figure size 432x288 with 1 Axes>"
            ],
            "image/png": "[encoded data removed]"
          },
          "metadata": {
            "needs_background": "light"
          }
        },
        {
          "output_type": "stream",
          "name": "stdout",
          "text": [
            "(50, 2)\n"
          ]
        },
        {
          "output_type": "display_data",
          "data": {
            "text/plain": [
              "<Figure size 432x288 with 1 Axes>"
            ],
            "image/png": "[encoded data removed]"
          },
          "metadata": {
            "needs_background": "light"
          }
        },
        {
          "output_type": "execute_result",
          "data": {
            "text/plain": [
              "count    100.000000\n",
              "mean      17.763853\n",
              "std        4.681132\n",
              "min        4.033950\n",
              "25%       14.665744\n",
              "50%       16.637580\n",
              "75%       19.955463\n",
              "max       32.957615\n",
              "Name: var, dtype: float64"
            ]
          },
          "metadata": {},
          "execution_count": 75
        }
      ]
    },
    {
      "cell_type": "code",
      "source": [
        "# sets de entrenamiento y testeo para usar luego en la clasificación."
      ],
      "metadata": {
        "id": "t45134b3tjU5"
      },
      "execution_count": null,
      "outputs": []
    },
    {
      "cell_type": "code",
      "source": [
        "#Generamos nuestros sets de entrenamiento y testeo para usar luego en la clasificación.\n",
        "print(dataf)\n",
        "\n",
        "dat = dataf.drop(columns='clase')\n",
        "clase = dataf['clase']\n",
        "\n",
        "train_dat, test_dat, train_clase, test_clase=train_test_split(dat, clase, test_size=0.5)\n",
        "print(train_dat.shape)\n",
        "print(train_clase.shape)\n",
        "print(test_clase.shape)"
      ],
      "metadata": {
        "colab": {
          "base_uri": "https://localhost:8080/"
        },
        "id": "Ko5sLuyOtl6H",
        "outputId": "eee74608-f501-4386-8bff-1f3b38fe6e8d"
      },
      "execution_count": null,
      "outputs": [
        {
          "output_type": "stream",
          "name": "stdout",
          "text": [
            "          var  clase\n",
            "0   20.626516      0\n",
            "1   28.544428      0\n",
            "2   17.016684      0\n",
            "3   22.598743      0\n",
            "4   16.410172      0\n",
            "..        ...    ...\n",
            "45  15.706668      1\n",
            "46  14.205007      1\n",
            "47  14.136498      1\n",
            "48  19.161603      1\n",
            "49  12.477851      1\n",
            "\n",
            "[100 rows x 2 columns]\n",
            "(50, 1)\n",
            "(50,)\n",
            "(50,)\n"
          ]
        }
      ]
    },
    {
      "cell_type": "code",
      "source": [
        "#Generamos una curva de clasificación aleatoria.\n",
        "aleat = [0 for _ in range(len(test_clase))]\n",
        "print(aleat)"
      ],
      "metadata": {
        "colab": {
          "base_uri": "https://localhost:8080/"
        },
        "id": "xlnQtuQ2tqAn",
        "outputId": "8213303d-5460-4282-a5e7-bb70b3fa1c77"
      },
      "execution_count": null,
      "outputs": [
        {
          "output_type": "stream",
          "name": "stdout",
          "text": [
            "[0, 0, 0, 0, 0, 0, 0, 0, 0, 0, 0, 0, 0, 0, 0, 0, 0, 0, 0, 0, 0, 0, 0, 0, 0, 0, 0, 0, 0, 0, 0, 0, 0, 0, 0, 0, 0, 0, 0, 0, 0, 0, 0, 0, 0, 0, 0, 0, 0, 0]\n"
          ]
        }
      ]
    },
    {
      "cell_type": "code",
      "source": [
        "#Aplicamos un método de clasificación mediante regresión logística a nuestro dataset\n",
        "model=LogisticRegression(solver='lbfgs')\n",
        "model.fit(train_dat,train_clase)"
      ],
      "metadata": {
        "colab": {
          "base_uri": "https://localhost:8080/"
        },
        "id": "WSUmhHsgt6b3",
        "outputId": "bcd0ace8-88ba-49a6-ed88-6a049a5ff66b"
      },
      "execution_count": null,
      "outputs": [
        {
          "output_type": "execute_result",
          "data": {
            "text/plain": [
              "LogisticRegression()"
            ]
          },
          "metadata": {},
          "execution_count": 77
        }
      ]
    },
    {
      "cell_type": "code",
      "source": [
        "#Predecimos las probabilidades de las dos clases.\n",
        "log_reg = model.predict_proba(test_dat)\n",
        "print(log_reg.shape)\n",
        "#print(log_reg)"
      ],
      "metadata": {
        "colab": {
          "base_uri": "https://localhost:8080/"
        },
        "id": "ivCIA-RBuF4_",
        "outputId": "b296e03b-3f88-4f34-c309-091ccc7cfca8"
      },
      "execution_count": null,
      "outputs": [
        {
          "output_type": "stream",
          "name": "stdout",
          "text": [
            "(50, 2)\n"
          ]
        }
      ]
    },
    {
      "cell_type": "code",
      "source": [
        "#Me quedo solo con los resultados positivos.\n",
        "log_reg_pos = log_reg[:,1]\n",
        "print(log_reg_pos.shape)"
      ],
      "metadata": {
        "colab": {
          "base_uri": "https://localhost:8080/"
        },
        "id": "J2Ew7mR2uKFP",
        "outputId": "b0947743-b5cb-4f2e-94c0-bca748ccf023"
      },
      "execution_count": null,
      "outputs": [
        {
          "output_type": "stream",
          "name": "stdout",
          "text": [
            "(50,)\n"
          ]
        }
      ]
    },
    {
      "cell_type": "code",
      "source": [
        "#Calculamos los resultados del AUC (área bajo la curva) para la regresión logística y la clasificación aleatoria:\n",
        "aleat_auc = roc_auc_score(test_clase, aleat)\n",
        "log_reg_auc = roc_auc_score(test_clase,log_reg_pos)\n",
        "print('Aleatoria: ROC AUC=',(aleat_auc))\n",
        "print('Logística: ROC AUC=',(log_reg_auc))"
      ],
      "metadata": {
        "colab": {
          "base_uri": "https://localhost:8080/"
        },
        "id": "6hQga3NtuNl4",
        "outputId": "4d504e5d-0b4c-4752-a158-82f0407c9fb1"
      },
      "execution_count": null,
      "outputs": [
        {
          "output_type": "stream",
          "name": "stdout",
          "text": [
            "Aleatoria: ROC AUC= 0.5\n",
            "Logística: ROC AUC= 0.8534621578099839\n"
          ]
        }
      ]
    },
    {
      "cell_type": "code",
      "source": [
        "#Calculamos la curva ROC y alguno de los parámetros de calidad del clasificador:\n",
        "aleat_fpr, aleat_tpr, _ = roc_curve(test_clase, aleat)\n",
        "log_reg_fpr, log_reg_tpr, _ = roc_curve(test_clase, log_reg_pos)"
      ],
      "metadata": {
        "id": "sH2ki5dTuX5Y"
      },
      "execution_count": null,
      "outputs": []
    },
    {
      "cell_type": "code",
      "source": [
        "#Graficamos la curva ROC correspondiente al ejemplo desarrollado\n",
        "plt.plot(aleat_fpr, aleat_tpr, label=\"Aleatoria\")\n",
        "plt.plot(log_reg_fpr, log_reg_tpr, label=\"Regresión Logística\")\n",
        "plt.xlabel(\"False Positive Rate\") #Agregamos el nombre al eje X\n",
        "plt.ylabel(\"True Positive Rate\")  #Agregamos el nombre al eje Y\n",
        "plt.legend()  #Agregamos las referencias\n",
        "plt.show()  #Mostramos el gráfico completo"
      ],
      "metadata": {
        "colab": {
          "base_uri": "https://localhost:8080/",
          "height": 279
        },
        "id": "OefrOh0suaoZ",
        "outputId": "a624f9ff-ab61-473f-bc3d-2c6eeda1c5c9"
      },
      "execution_count": null,
      "outputs": [
        {
          "output_type": "display_data",
          "data": {
            "text/plain": [
              "<Figure size 432x288 with 1 Axes>"
            ],
            "image/png": "[encoded data removed]"
          },
          "metadata": {
            "needs_background": "light"
          }
        }
      ]
    },
    {
      "cell_type": "code",
      "source": [
        "#Evaluamos la performance de nuestro modelo de clasificación a través de distintos parámetros.\n",
        "pred = model.predict(test_dat)\n",
        "acc = metrics.accuracy_score(test_clase,pred)\n",
        "prec = metrics.precision_score(test_clase,pred)\n",
        "f_mes = metrics.f1_score(test_clase,pred)\n",
        "\n",
        "print('La exactitud del modelo fue:',acc)\n",
        "print('La precisión del modelo fue:',prec)\n",
        "print('El valor de f-measure fue:',f_mes)"
      ],
      "metadata": {
        "colab": {
          "base_uri": "https://localhost:8080/"
        },
        "id": "-JFFJxXjyqLo",
        "outputId": "a5bcf84e-62da-445c-a742-e9a71f0c0104"
      },
      "execution_count": null,
      "outputs": [
        {
          "output_type": "stream",
          "name": "stdout",
          "text": [
            "La exactitud del modelo fue: 0.78\n",
            "La precisión del modelo fue: 0.7\n",
            "El valor de f-measure fue: 0.7924528301886793\n"
          ]
        }
      ]
    },
    {
      "cell_type": "code",
      "source": [
        "#Hacemos la matriz de confusión para visualizar los resultados del clasificador, para ello primero debemos importar la función correspondiente de scikit learn."
      ],
      "metadata": {
        "id": "ltHQobvru00x"
      },
      "execution_count": null,
      "outputs": []
    },
    {
      "cell_type": "code",
      "source": [
        "from sklearn.metrics import confusion_matrix\n",
        "print(confusion_matrix)"
      ],
      "metadata": {
        "colab": {
          "base_uri": "https://localhost:8080/"
        },
        "id": "WzuQyL-Ju6YQ",
        "outputId": "d5334959-61e1-491f-b8c5-9daf66a54538"
      },
      "execution_count": null,
      "outputs": [
        {
          "output_type": "stream",
          "name": "stdout",
          "text": [
            "<function confusion_matrix at 0x7fcfa266d950>\n"
          ]
        }
      ]
    },
    {
      "cell_type": "code",
      "source": [
        "cf_mtx = metrics.confusion_matrix(test_clase,pred)   #calculo de la matriz\n",
        "print(cf_mtx)\n"
      ],
      "metadata": {
        "colab": {
          "base_uri": "https://localhost:8080/"
        },
        "id": "f8e73KZgveMp",
        "outputId": "438d1910-e795-4032-96e1-2cb5ba3af28b"
      },
      "execution_count": null,
      "outputs": [
        {
          "output_type": "stream",
          "name": "stdout",
          "text": [
            "[[18  9]\n",
            " [ 2 21]]\n"
          ]
        }
      ]
    },
    {
      "cell_type": "code",
      "source": [
        "clases=[0,1]    #Graficamos la matriz de confusión\n",
        "fig,ax = plt.subplots()\n",
        "referencias = np.arange(len(clases))\n",
        "plt.xticks(referencias, clases)\n",
        "plt.yticks(referencias, clases)\n",
        "\n",
        "sns.heatmap(pd.DataFrame(cf_mtx), annot=True, cmap=\"YlGnBu\" ,fmt='g')\n",
        "ax.xaxis.set_label_position(\"top\")\n",
        "plt.tight_layout()\n",
        "plt.title('Matriz de confusión', y=1.1)\n",
        "plt.ylabel('Clase Real')\n",
        "plt.xlabel('Clase Predicha')"
      ],
      "metadata": {
        "colab": {
          "base_uri": "https://localhost:8080/",
          "height": 342
        },
        "id": "YGV-_Wo2wZox",
        "outputId": "5bf41418-1952-4df2-f501-38a277603e68"
      },
      "execution_count": null,
      "outputs": [
        {
          "output_type": "execute_result",
          "data": {
            "text/plain": [
              "Text(0.5, 257.44, 'Clase Predicha')"
            ]
          },
          "metadata": {},
          "execution_count": 72
        },
        {
          "output_type": "display_data",
          "data": {
            "text/plain": [
              "<Figure size 432x288 with 2 Axes>"
            ],
            "image/png": "[encoded data removed]"
          },
          "metadata": {
            "needs_background": "light"
          }
        }
      ]
    }
  ]
}