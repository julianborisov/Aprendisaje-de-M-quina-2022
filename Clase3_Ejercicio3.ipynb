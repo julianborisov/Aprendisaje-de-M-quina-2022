{
  "nbformat": 4,
  "nbformat_minor": 0,
  "metadata": {
    "colab": {
      "name": "Clase3_Ejercicio3.ipynb",
      "provenance": [],
      "authorship_tag": "ABX9TyOSv4TMpLhMUnA72nZ/Bc8I",
      "include_colab_link": true
    },
    "kernelspec": {
      "name": "python3",
      "display_name": "Python 3"
    },
    "language_info": {
      "name": "python"
    }
  },
  "cells": [
    {
      "cell_type": "markdown",
      "metadata": {
        "id": "view-in-github",
        "colab_type": "text"
      },
      "source": [
        "<a href=\"https://colab.research.google.com/github/julianborisov/Aprendisaje-de-M-quina-2022/blob/main/Clase3_Ejercicio3.ipynb\" target=\"_parent\"><img src=\"https://colab.research.google.com/assets/colab-badge.svg\" alt=\"Open In Colab\"/></a>"
      ]
    },
    {
      "cell_type": "code",
      "execution_count": null,
      "metadata": {
        "id": "ZFlTJuJbBXJN"
      },
      "outputs": [],
      "source": [
        "#Ejercicio 3.1:\n",
        "# Supongamos que tenemos un dataset mezcla de 2 grupos aleatorios bidimensionales (100 datos). Encontrar un clasificador por K-NN y, evaluar exactitud, precisión y f-measure.\n"
      ]
    },
    {
      "cell_type": "code",
      "source": [
        "#bibliotecas\n",
        "\n",
        "import numpy as np \n",
        "import pandas as pd\n",
        "import matplotlib.pyplot as plt\n",
        "import seaborn as sns"
      ],
      "metadata": {
        "id": "WsGVXr0vCKIk"
      },
      "execution_count": 1,
      "outputs": []
    },
    {
      "cell_type": "code",
      "source": [
        "#Creamos el dataset con 2 grupos aleatorios bidimensionales\n",
        "n=100\n",
        "var=2\n",
        "med=10\n",
        "\n",
        "a=np.random.normal(loc=med, size=(n,var))\n",
        "a_rd=np.round(a)\n",
        "df_a=pd.DataFrame((a_rd),columns=['x','y'])\n",
        "df_a['clase']=0\n",
        "\n",
        "med2=12\n",
        "\n",
        "b=np.random.normal(loc=med2, size=(n,var))\n",
        "b_rd=np.round(b)\n",
        "df_b=pd.DataFrame((b_rd),columns=['x','y'])\n",
        "df_b['clase']=1\n",
        "\n",
        "dataf=pd.concat([df_a,df_b])\n",
        "dataf"
      ],
      "metadata": {
        "colab": {
          "base_uri": "https://localhost:8080/",
          "height": 424
        },
        "id": "fP-R_xj9CcEx",
        "outputId": "9d5ff134-1888-4304-ad11-ef73d20a1790"
      },
      "execution_count": 2,
      "outputs": [
        {
          "output_type": "execute_result",
          "data": {
            "text/plain": [
              "       x     y  clase\n",
              "0   12.0  10.0      0\n",
              "1   10.0  10.0      0\n",
              "2   11.0  10.0      0\n",
              "3   13.0  11.0      0\n",
              "4    8.0  10.0      0\n",
              "..   ...   ...    ...\n",
              "95  12.0  13.0      1\n",
              "96  12.0  12.0      1\n",
              "97  12.0  12.0      1\n",
              "98  11.0  11.0      1\n",
              "99  12.0  11.0      1\n",
              "\n",
              "[200 rows x 3 columns]"
            ],
            "text/html": [
              "\n",
              "  <div id=\"df-9c4e8815-dc60-4ff5-9f34-d224d48ca4d8\">\n",
              "    <div class=\"colab-df-container\">\n",
              "      <div>\n",
              "<style scoped>\n",
              "    .dataframe tbody tr th:only-of-type {\n",
              "        vertical-align: middle;\n",
              "    }\n",
              "\n",
              "    .dataframe tbody tr th {\n",
              "        vertical-align: top;\n",
              "    }\n",
              "\n",
              "    .dataframe thead th {\n",
              "        text-align: right;\n",
              "    }\n",
              "</style>\n",
              "<table border=\"1\" class=\"dataframe\">\n",
              "  <thead>\n",
              "    <tr style=\"text-align: right;\">\n",
              "      <th></th>\n",
              "      <th>x</th>\n",
              "      <th>y</th>\n",
              "      <th>clase</th>\n",
              "    </tr>\n",
              "  </thead>\n",
              "  <tbody>\n",
              "    <tr>\n",
              "      <th>0</th>\n",
              "      <td>12.0</td>\n",
              "      <td>10.0</td>\n",
              "      <td>0</td>\n",
              "    </tr>\n",
              "    <tr>\n",
              "      <th>1</th>\n",
              "      <td>10.0</td>\n",
              "      <td>10.0</td>\n",
              "      <td>0</td>\n",
              "    </tr>\n",
              "    <tr>\n",
              "      <th>2</th>\n",
              "      <td>11.0</td>\n",
              "      <td>10.0</td>\n",
              "      <td>0</td>\n",
              "    </tr>\n",
              "    <tr>\n",
              "      <th>3</th>\n",
              "      <td>13.0</td>\n",
              "      <td>11.0</td>\n",
              "      <td>0</td>\n",
              "    </tr>\n",
              "    <tr>\n",
              "      <th>4</th>\n",
              "      <td>8.0</td>\n",
              "      <td>10.0</td>\n",
              "      <td>0</td>\n",
              "    </tr>\n",
              "    <tr>\n",
              "      <th>...</th>\n",
              "      <td>...</td>\n",
              "      <td>...</td>\n",
              "      <td>...</td>\n",
              "    </tr>\n",
              "    <tr>\n",
              "      <th>95</th>\n",
              "      <td>12.0</td>\n",
              "      <td>13.0</td>\n",
              "      <td>1</td>\n",
              "    </tr>\n",
              "    <tr>\n",
              "      <th>96</th>\n",
              "      <td>12.0</td>\n",
              "      <td>12.0</td>\n",
              "      <td>1</td>\n",
              "    </tr>\n",
              "    <tr>\n",
              "      <th>97</th>\n",
              "      <td>12.0</td>\n",
              "      <td>12.0</td>\n",
              "      <td>1</td>\n",
              "    </tr>\n",
              "    <tr>\n",
              "      <th>98</th>\n",
              "      <td>11.0</td>\n",
              "      <td>11.0</td>\n",
              "      <td>1</td>\n",
              "    </tr>\n",
              "    <tr>\n",
              "      <th>99</th>\n",
              "      <td>12.0</td>\n",
              "      <td>11.0</td>\n",
              "      <td>1</td>\n",
              "    </tr>\n",
              "  </tbody>\n",
              "</table>\n",
              "<p>200 rows × 3 columns</p>\n",
              "</div>\n",
              "      <button class=\"colab-df-convert\" onclick=\"convertToInteractive('df-9c4e8815-dc60-4ff5-9f34-d224d48ca4d8')\"\n",
              "              title=\"Convert this dataframe to an interactive table.\"\n",
              "              style=\"display:none;\">\n",
              "        \n",
              "  <svg xmlns=\"http://www.w3.org/2000/svg\" height=\"24px\"viewBox=\"0 0 24 24\"\n",
              "       width=\"24px\">\n",
              "    <path d=\"M0 0h24v24H0V0z\" fill=\"none\"/>\n",
              "    <path d=\"M18.56 5.44l.94 2.06.94-2.06 2.06-.94-2.06-.94-.94-2.06-.94 2.06-2.06.94zm-11 1L8.5 8.5l.94-2.06 2.06-.94-2.06-.94L8.5 2.5l-.94 2.06-2.06.94zm10 10l.94 2.06.94-2.06 2.06-.94-2.06-.94-.94-2.06-.94 2.06-2.06.94z\"/><path d=\"M17.41 7.96l-1.37-1.37c-.4-.4-.92-.59-1.43-.59-.52 0-1.04.2-1.43.59L10.3 9.45l-7.72 7.72c-.78.78-.78 2.05 0 2.83L4 21.41c.39.39.9.59 1.41.59.51 0 1.02-.2 1.41-.59l7.78-7.78 2.81-2.81c.8-.78.8-2.07 0-2.86zM5.41 20L4 18.59l7.72-7.72 1.47 1.35L5.41 20z\"/>\n",
              "  </svg>\n",
              "      </button>\n",
              "      \n",
              "  <style>\n",
              "    .colab-df-container {\n",
              "      display:flex;\n",
              "      flex-wrap:wrap;\n",
              "      gap: 12px;\n",
              "    }\n",
              "\n",
              "    .colab-df-convert {\n",
              "      background-color: #E8F0FE;\n",
              "      border: none;\n",
              "      border-radius: 50%;\n",
              "      cursor: pointer;\n",
              "      display: none;\n",
              "      fill: #1967D2;\n",
              "      height: 32px;\n",
              "      padding: 0 0 0 0;\n",
              "      width: 32px;\n",
              "    }\n",
              "\n",
              "    .colab-df-convert:hover {\n",
              "      background-color: #E2EBFA;\n",
              "      box-shadow: 0px 1px 2px rgba(60, 64, 67, 0.3), 0px 1px 3px 1px rgba(60, 64, 67, 0.15);\n",
              "      fill: #174EA6;\n",
              "    }\n",
              "\n",
              "    [theme=dark] .colab-df-convert {\n",
              "      background-color: #3B4455;\n",
              "      fill: #D2E3FC;\n",
              "    }\n",
              "\n",
              "    [theme=dark] .colab-df-convert:hover {\n",
              "      background-color: #434B5C;\n",
              "      box-shadow: 0px 1px 3px 1px rgba(0, 0, 0, 0.15);\n",
              "      filter: drop-shadow(0px 1px 2px rgba(0, 0, 0, 0.3));\n",
              "      fill: #FFFFFF;\n",
              "    }\n",
              "  </style>\n",
              "\n",
              "      <script>\n",
              "        const buttonEl =\n",
              "          document.querySelector('#df-9c4e8815-dc60-4ff5-9f34-d224d48ca4d8 button.colab-df-convert');\n",
              "        buttonEl.style.display =\n",
              "          google.colab.kernel.accessAllowed ? 'block' : 'none';\n",
              "\n",
              "        async function convertToInteractive(key) {\n",
              "          const element = document.querySelector('#df-9c4e8815-dc60-4ff5-9f34-d224d48ca4d8');\n",
              "          const dataTable =\n",
              "            await google.colab.kernel.invokeFunction('convertToInteractive',\n",
              "                                                     [key], {});\n",
              "          if (!dataTable) return;\n",
              "\n",
              "          const docLinkHtml = 'Like what you see? Visit the ' +\n",
              "            '<a target=\"_blank\" href=https://colab.research.google.com/notebooks/data_table.ipynb>data table notebook</a>'\n",
              "            + ' to learn more about interactive tables.';\n",
              "          element.innerHTML = '';\n",
              "          dataTable['output_type'] = 'display_data';\n",
              "          await google.colab.output.renderOutput(dataTable, element);\n",
              "          const docLink = document.createElement('div');\n",
              "          docLink.innerHTML = docLinkHtml;\n",
              "          element.appendChild(docLink);\n",
              "        }\n",
              "      </script>\n",
              "    </div>\n",
              "  </div>\n",
              "  "
            ]
          },
          "metadata": {},
          "execution_count": 2
        }
      ]
    },
    {
      "cell_type": "code",
      "source": [
        "#Importamos las funciones de la biblioteca de scikit learn para crear un clasificador K-NN.\n",
        "\n",
        "from sklearn.model_selection import train_test_split\n",
        "from sklearn import neighbors\n",
        "from sklearn import metrics"
      ],
      "metadata": {
        "id": "4tcnPTwmC0Yr"
      },
      "execution_count": 4,
      "outputs": []
    },
    {
      "cell_type": "code",
      "source": [
        "#sets de entrenamiento y testeo para usar luego en la clasificación.\n",
        "\n",
        "dat = dataf.drop(columns='clase')\n",
        "print(dat.shape)\n",
        "clase = dataf['clase']\n",
        "\n",
        "train_dat, test_dat, train_clase, test_clase=train_test_split(dat, clase, test_size=0.5)\n",
        "print(train_dat.shape)\n",
        "print(train_clase.shape)"
      ],
      "metadata": {
        "colab": {
          "base_uri": "https://localhost:8080/"
        },
        "id": "8__nAxTXDErw",
        "outputId": "cd09ec4b-2e16-49d7-9c82-ffde385210ac"
      },
      "execution_count": 5,
      "outputs": [
        {
          "output_type": "stream",
          "name": "stdout",
          "text": [
            "(200, 2)\n",
            "(100, 2)\n",
            "(100,)\n"
          ]
        }
      ]
    },
    {
      "cell_type": "code",
      "source": [
        "#método de clasificación K-NN al conjunto de entrenamiento con un valor de k=10.\n",
        "\n",
        "knn1 = neighbors.KNeighborsClassifier(n_neighbors=10)\n",
        "knn1.fit(train_dat, train_clase)\n"
      ],
      "metadata": {
        "colab": {
          "base_uri": "https://localhost:8080/"
        },
        "id": "PsuHFRXiDKfa",
        "outputId": "a36fd2bb-bda5-49ff-a6e4-d972a23ff3a8"
      },
      "execution_count": 11,
      "outputs": [
        {
          "output_type": "execute_result",
          "data": {
            "text/plain": [
              "KNeighborsClassifier(n_neighbors=10)"
            ]
          },
          "metadata": {},
          "execution_count": 11
        }
      ]
    },
    {
      "cell_type": "code",
      "source": [
        "#Evaluamos nuestro modelo con el conjunto de testeo.\n",
        "\n",
        "pred = knn1.predict(test_dat)\n",
        "acc = metrics.accuracy_score(test_clase,pred)\n",
        "prec = metrics.precision_score(test_clase,pred)\n",
        "f_mes =metrics.f1_score(test_clase,pred)\n",
        "\n",
        "print('La exactitud del modelo fue:',acc)\n",
        "print('La precisión del modelo fue:',prec)\n",
        "print('El valor de f-measure fue:',f_mes)"
      ],
      "metadata": {
        "colab": {
          "base_uri": "https://localhost:8080/"
        },
        "id": "hoJy86GzDgVk",
        "outputId": "598ec085-2ebb-4c21-9230-aece65949a6f"
      },
      "execution_count": 7,
      "outputs": [
        {
          "output_type": "stream",
          "name": "stdout",
          "text": [
            "La exactitud del modelo fue: 0.89\n",
            "La precisión del modelo fue: 0.8627450980392157\n",
            "El valor de f-measure fue: 0.888888888888889\n"
          ]
        }
      ]
    },
    {
      "cell_type": "code",
      "source": [
        "#Veo los resultados del clasificador graficando la matriz de confusión\n",
        "\n",
        "from sklearn.metrics import confusion_matrix\n",
        "\n",
        "clases=[0,1]    \n",
        "cf_mtx = metrics.confusion_matrix(test_clase,pred,labels=clases)   #calculo de la matriz\n",
        "print(cf_mtx)\n",
        "\n",
        "fig,ax = plt.subplots()     #Graficamos la matriz de confusión\n",
        "referencias = np.arange(len(clases))\n",
        "plt.xticks(referencias, clases)\n",
        "plt.yticks(referencias, clases)\n",
        "\n",
        "sns.heatmap(pd.DataFrame(cf_mtx), annot=True, cmap=\"YlGnBu\" ,fmt='g')\n",
        "ax.xaxis.set_label_position(\"top\")\n",
        "plt.tight_layout()\n",
        "plt.title('Matriz de confusión', y=1.1)\n",
        "plt.ylabel('Clase Real')\n",
        "plt.xlabel('Clase Predicha')"
      ],
      "metadata": {
        "colab": {
          "base_uri": "https://localhost:8080/",
          "height": 373
        },
        "id": "ii0vscJbDp76",
        "outputId": "95adca28-3686-4889-8782-053459e73611"
      },
      "execution_count": 8,
      "outputs": [
        {
          "output_type": "stream",
          "name": "stdout",
          "text": [
            "[[45  7]\n",
            " [ 4 44]]\n"
          ]
        },
        {
          "output_type": "execute_result",
          "data": {
            "text/plain": [
              "Text(0.5, 257.44, 'Clase Predicha')"
            ]
          },
          "metadata": {},
          "execution_count": 8
        },
        {
          "output_type": "display_data",
          "data": {
            "text/plain": [
              "<Figure size 432x288 with 2 Axes>"
            ],
            "image/png": "[encoded data removed]"
          },
          "metadata": {
            "needs_background": "light"
          }
        }
      ]
    },
    {
      "cell_type": "code",
      "source": [
        "#Corremos el modelo pero ahora con un valor de k=21\n",
        "\n",
        "knn2 = neighbors.KNeighborsClassifier(n_neighbors=21)\n",
        "knn2.fit(train_dat, train_clase)\n",
        "\n",
        "pred2 = knn2.predict(test_dat)\n",
        "acc2 = metrics.accuracy_score(test_clase,pred2)\n",
        "prec2 = metrics.precision_score(test_clase,pred2)\n",
        "f_mes2 =metrics.f1_score(test_clase,pred2)\n",
        "\n",
        "print('La exactitud del modelo fue:',acc2)\n",
        "print('La precisión del modelo fue:',prec2)\n",
        "print('El valor de f-measure fue:',f_mes2)\n"
      ],
      "metadata": {
        "colab": {
          "base_uri": "https://localhost:8080/"
        },
        "id": "ccyw25XwD1Qb",
        "outputId": "f120c3dd-d275-4783-99cd-f9afadc37119"
      },
      "execution_count": 13,
      "outputs": [
        {
          "output_type": "stream",
          "name": "stdout",
          "text": [
            "La exactitud del modelo fue: 0.91\n",
            "La precisión del modelo fue: 0.8679245283018868\n",
            "El valor de f-measure fue: 0.910891089108911\n"
          ]
        }
      ]
    },
    {
      "cell_type": "code",
      "source": [
        "#resultados del nuevo modelo\n",
        "\n",
        "cf_mtx = metrics.confusion_matrix(test_clase,pred2)   #calculo de la matriz\n",
        "print(cf_mtx)\n",
        "\n",
        "clases=[0,1]    #Graficamos la matriz de confusión\n",
        "fig,ax = plt.subplots(1)\n",
        "referencias = np.arange(len(clases))\n",
        "plt.xticks(referencias, clases)\n",
        "plt.yticks(referencias, clases)\n",
        "\n",
        "sns.heatmap(pd.DataFrame(cf_mtx), annot=True, cmap=\"YlGnBu\" ,fmt='g')\n",
        "ax.xaxis.set_label_position(\"top\")\n",
        "plt.tight_layout(1)\n",
        "plt.title('Matriz de confusión', y=1.1)\n",
        "plt.ylabel('Clase Real')\n",
        "plt.xlabel('Clase Predicha')"
      ],
      "metadata": {
        "colab": {
          "base_uri": "https://localhost:8080/",
          "height": 379
        },
        "id": "JSeHTmlkExza",
        "outputId": "af2ca789-8f42-4964-cf77-2c8b079f9bc6"
      },
      "execution_count": 14,
      "outputs": [
        {
          "output_type": "stream",
          "name": "stdout",
          "text": [
            "[[45  7]\n",
            " [ 2 46]]\n"
          ]
        },
        {
          "output_type": "execute_result",
          "data": {
            "text/plain": [
              "Text(0.5, 257.44, 'Clase Predicha')"
            ]
          },
          "metadata": {},
          "execution_count": 14
        },
        {
          "output_type": "display_data",
          "data": {
            "text/plain": [
              "<Figure size 432x288 with 2 Axes>"
            ],
            "image/png": "[encoded data removed]"
          },
          "metadata": {
            "needs_background": "light"
          }
        }
      ]
    },
    {
      "cell_type": "code",
      "source": [
        "#EJERCICIO 3.3\n",
        "\n",
        "#dataset alojado en github desarrollar un clasificador que prediga si una canción dada va a ser gustada o no.\n",
        "#Inicializamos las bibliotecas:\n",
        "\n",
        "import pandas as pd\n",
        "import numpy as np"
      ],
      "metadata": {
        "id": "5rTntTExSfsF"
      },
      "execution_count": 15,
      "outputs": []
    },
    {
      "cell_type": "code",
      "source": [
        "#Abrimos el dataset de spotify con la biblioteca pandas.\n",
        "\n",
        "spotify = pd.read_csv('https://raw.githubusercontent.com/emmanueliarussi/DataScienceCapstone/master/3_MidtermProjects/ProjectBOM/data/attributes_spotify.csv', header=0, sep=\",\")\n",
        "spot = pd.read_csv('https://raw.githubusercontent.com/emmanueliarussi/DataScienceCapstone/master/3_MidtermProjects/ProjectBOM/data/attributes_spotify.csv', header=0, sep=\",\")\n",
        "print(spot.shape)\n",
        "print(spot.describe())\n",
        "print(spot.columns)\n",
        "print(spot.target)    #si la canción \"gusta\"=1 y si \"no gusta\"=0"
      ],
      "metadata": {
        "colab": {
          "base_uri": "https://localhost:8080/"
        },
        "id": "yBSrp4OTSs3t",
        "outputId": "097f0917-4f4a-4558-d9dc-bf6a96bbc96f"
      },
      "execution_count": 16,
      "outputs": [
        {
          "output_type": "stream",
          "name": "stdout",
          "text": [
            "(2017, 17)\n",
            "        Unnamed: 0  acousticness  danceability   duration_ms       energy  \\\n",
            "count  2017.000000   2017.000000   2017.000000  2.017000e+03  2017.000000   \n",
            "mean   1008.000000      0.187590      0.618422  2.463062e+05     0.681577   \n",
            "std     582.402066      0.259989      0.161029  8.198181e+04     0.210273   \n",
            "min       0.000000      0.000003      0.122000  1.604200e+04     0.014800   \n",
            "25%     504.000000      0.009630      0.514000  2.000150e+05     0.563000   \n",
            "50%    1008.000000      0.063300      0.631000  2.292610e+05     0.715000   \n",
            "75%    1512.000000      0.265000      0.738000  2.703330e+05     0.846000   \n",
            "max    2016.000000      0.995000      0.984000  1.004627e+06     0.998000   \n",
            "\n",
            "       instrumentalness          key     liveness     loudness         mode  \\\n",
            "count       2017.000000  2017.000000  2017.000000  2017.000000  2017.000000   \n",
            "mean           0.133286     5.342588     0.190844    -7.085624     0.612295   \n",
            "std            0.273162     3.648240     0.155453     3.761684     0.487347   \n",
            "min            0.000000     0.000000     0.018800   -33.097000     0.000000   \n",
            "25%            0.000000     2.000000     0.092300    -8.394000     0.000000   \n",
            "50%            0.000076     6.000000     0.127000    -6.248000     1.000000   \n",
            "75%            0.054000     9.000000     0.247000    -4.746000     1.000000   \n",
            "max            0.976000    11.000000     0.969000    -0.307000     1.000000   \n",
            "\n",
            "       speechiness        tempo  time_signature      valence       target  \n",
            "count  2017.000000  2017.000000     2017.000000  2017.000000  2017.000000  \n",
            "mean      0.092664   121.603272        3.968270     0.496815     0.505702  \n",
            "std       0.089931    26.685604        0.255853     0.247195     0.500091  \n",
            "min       0.023100    47.859000        1.000000     0.034800     0.000000  \n",
            "25%       0.037500   100.189000        4.000000     0.295000     0.000000  \n",
            "50%       0.054900   121.427000        4.000000     0.492000     1.000000  \n",
            "75%       0.108000   137.849000        4.000000     0.691000     1.000000  \n",
            "max       0.816000   219.331000        5.000000     0.992000     1.000000  \n",
            "Index(['Unnamed: 0', 'acousticness', 'danceability', 'duration_ms', 'energy',\n",
            "       'instrumentalness', 'key', 'liveness', 'loudness', 'mode',\n",
            "       'speechiness', 'tempo', 'time_signature', 'valence', 'target',\n",
            "       'song_title', 'artist'],\n",
            "      dtype='object')\n",
            "0       1\n",
            "1       1\n",
            "2       1\n",
            "3       1\n",
            "4       1\n",
            "       ..\n",
            "2012    0\n",
            "2013    0\n",
            "2014    0\n",
            "2015    0\n",
            "2016    0\n",
            "Name: target, Length: 2017, dtype: int64\n"
          ]
        }
      ]
    },
    {
      "cell_type": "code",
      "source": [
        "#excluyo los features \"song_title\" y \"artist\" por la baja probabilidad de influir en el resultado final (inferencia personal), además estos feature tienen una gran variabilidad chequeandolos al visteo. También se descartó \"unnamed: 0\" que se usa como índice.\n",
        "\n",
        "\n",
        "del spotify['artist']\n",
        "del spotify['song_title']\n",
        "print(spotify.shape)\n",
        "print(spotify.columns)\n",
        "\n",
        "del spot['artist']\n",
        "del spot['song_title']\n",
        "\n",
        "print(spot.shape)\n",
        "print(spot.columns)"
      ],
      "metadata": {
        "colab": {
          "base_uri": "https://localhost:8080/"
        },
        "id": "5E-4SxgGTKUU",
        "outputId": "1f532603-9c4e-466b-8193-ae1ef1baaa62"
      },
      "execution_count": 17,
      "outputs": [
        {
          "output_type": "stream",
          "name": "stdout",
          "text": [
            "(2017, 15)\n",
            "Index(['Unnamed: 0', 'acousticness', 'danceability', 'duration_ms', 'energy',\n",
            "       'instrumentalness', 'key', 'liveness', 'loudness', 'mode',\n",
            "       'speechiness', 'tempo', 'time_signature', 'valence', 'target'],\n",
            "      dtype='object')\n",
            "(2017, 15)\n",
            "Index(['Unnamed: 0', 'acousticness', 'danceability', 'duration_ms', 'energy',\n",
            "       'instrumentalness', 'key', 'liveness', 'loudness', 'mode',\n",
            "       'speechiness', 'tempo', 'time_signature', 'valence', 'target'],\n",
            "      dtype='object')\n"
          ]
        }
      ]
    },
    {
      "cell_type": "code",
      "source": [
        "#Analizo el resto de los features vs \"target\" por separado para tomar la decisión de mantenerlos o excluirlos del dataset final que ingresa al modelo de clasificación. Para eso vamos a necesitar la función pyplot de la biblioteca de matplotlib.\n",
        "from matplotlib import pyplot as plt"
      ],
      "metadata": {
        "id": "vkT7w2wyTyBk"
      },
      "execution_count": 18,
      "outputs": []
    },
    {
      "cell_type": "code",
      "source": [
        "#Hacemos un gráfico de dispersión para analizar visualmente la distribución de los datos de cada feature frente a la variable discreta \"target\".\n",
        "\n",
        "plt.figure(1)\n",
        "plt.scatter(spot.target,spot.loudness)\n",
        "plt.xlabel('Target')\n",
        "plt.ylabel('Loudness')\n",
        "plt.show(1)\n",
        "\n",
        "plt.figure(2)\n",
        "plt.scatter(spot.target,spot['Unnamed: 0'])\n",
        "plt.xlabel('Target')\n",
        "plt.ylabel('Unnamed: 0')\n",
        "plt.show(2)"
      ],
      "metadata": {
        "colab": {
          "base_uri": "https://localhost:8080/",
          "height": 541
        },
        "id": "SKbXz2xFT9_U",
        "outputId": "e7b6defe-d191-461c-e1a7-607bedd6ef39"
      },
      "execution_count": 19,
      "outputs": [
        {
          "output_type": "display_data",
          "data": {
            "text/plain": [
              "<Figure size 432x288 with 1 Axes>"
            ],
            "image/png": "[encoded data removed]"
          },
          "metadata": {
            "needs_background": "light"
          }
        },
        {
          "output_type": "display_data",
          "data": {
            "text/plain": [
              "<Figure size 432x288 with 1 Axes>"
            ],
            "image/png": "[encoded data removed]"
          },
          "metadata": {
            "needs_background": "light"
          }
        }
      ]
    },
    {
      "cell_type": "code",
      "source": [
        "#Haciendo un análisis rápido dejamos en el dataset de prueba unicamente las características que muestran una relación con el feature \"target\".\n",
        "\n",
        "del spot['acousticness']\n",
        "del spot['danceability']\n",
        "del spot['energy']\n",
        "del spot['instrumentalness']\n",
        "del spot['key']\n",
        "del spot['liveness']\n",
        "del spot['speechiness']\n",
        "del spot['valence']\n",
        "del spot['tempo']\n",
        "del spot['time_signature']\n",
        "del spot['duration_ms']\n",
        "del spot['mode']\n",
        "print(spot.shape)\n",
        "print(spot.columns)\n"
      ],
      "metadata": {
        "colab": {
          "base_uri": "https://localhost:8080/"
        },
        "id": "lYL-mlHsUIfs",
        "outputId": "2907136c-0242-410d-b59d-b7fdfffcf26c"
      },
      "execution_count": 20,
      "outputs": [
        {
          "output_type": "stream",
          "name": "stdout",
          "text": [
            "(2017, 3)\n",
            "Index(['Unnamed: 0', 'loudness', 'target'], dtype='object')\n"
          ]
        }
      ]
    },
    {
      "cell_type": "code",
      "source": [
        "#Importamos las funciones de la biblioteca de scikit learn para hacer nuestro muestreo de entrenamiento y testeo, y la función para hacer la clasificación con K-NN.\n",
        "\n",
        "from sklearn.model_selection import train_test_split\n",
        "from sklearn import neighbors\n",
        "from sklearn import metrics"
      ],
      "metadata": {
        "id": "RSaWyhoiUeks"
      },
      "execution_count": 21,
      "outputs": []
    },
    {
      "cell_type": "code",
      "source": [
        "#Separamos de nuestro dataset depurado y el cuasi-completo un conjunto de datos para entrenamiento y otro para testeo.\n",
        "\n",
        "spot1 = spot.drop(columns='target')\n",
        "print(spot1.shape)\n",
        "targ1 = spot['target']\n",
        "print(targ1)\n",
        "\n",
        "train_spot, test_spot, train_target, test_target = train_test_split(spot1, targ1, test_size=0.5)\n",
        "print(train_spot.shape)\n",
        "print(train_target.shape)\n",
        "\n",
        "spot2 = spotify.drop(columns='target')\n",
        "targ2 = spotify['target']\n",
        "\n",
        "train_spotify, test_spotify, train_targets, test_targets = train_test_split(spot2, targ2, test_size=0.5)\n",
        "print(train_spotify.shape)\n",
        "print(train_targets.shape)"
      ],
      "metadata": {
        "colab": {
          "base_uri": "https://localhost:8080/"
        },
        "id": "_v_SxmI3U7zX",
        "outputId": "884fb702-2311-4aaf-f271-40544f4d203c"
      },
      "execution_count": 22,
      "outputs": [
        {
          "output_type": "stream",
          "name": "stdout",
          "text": [
            "(2017, 2)\n",
            "0       1\n",
            "1       1\n",
            "2       1\n",
            "3       1\n",
            "4       1\n",
            "       ..\n",
            "2012    0\n",
            "2013    0\n",
            "2014    0\n",
            "2015    0\n",
            "2016    0\n",
            "Name: target, Length: 2017, dtype: int64\n",
            "(1008, 2)\n",
            "(1008,)\n",
            "(1008, 14)\n",
            "(1008,)\n"
          ]
        }
      ]
    },
    {
      "cell_type": "code",
      "source": [
        "#Generamos un modelo de clasificación con el método K-NN donde k=45 (equivalente a la raíz de n) y evaluamos distintos parámetros de performance sobre ambos datasets (depurado e inicial).\n",
        "\n",
        "k=45\n",
        "\n",
        "knn3 = neighbors.KNeighborsClassifier(n_neighbors=k)\n",
        "knn3.fit(train_spot, train_target)\n",
        "\n",
        "pred3 = knn3.predict(test_spot)\n",
        "acc3 = metrics.accuracy_score(test_target,pred3)\n",
        "prec3 = metrics.precision_score(test_target,pred3)\n",
        "f_mes3 =metrics.f1_score(test_target,pred3)\n",
        "\n",
        "print('La performance del clasificador usando el dataset depurado es:')\n",
        "print('La exactitud del modelo fue:',acc3)\n",
        "print('La precisión del modelo fue:',prec3)\n",
        "print('El valor de f-measure fue:',f_mes3)\n",
        "\n",
        "knn4 = neighbors.KNeighborsClassifier(n_neighbors=k)\n",
        "knn4.fit(train_spotify, train_targets)\n",
        "\n",
        "pred4 = knn4.predict(test_spotify)\n",
        "acc4 = metrics.accuracy_score(test_targets,pred4)\n",
        "prec4 = metrics.precision_score(test_targets,pred4)\n",
        "f_mes4 =metrics.f1_score(test_targets,pred4)\n",
        "\n",
        "print('\\n')\n",
        "print('La performance del clasificador usando el dataset sin depurar es:')\n",
        "print('La exactitud del modelo fue:',acc4)\n",
        "print('La precisión del modelo fue:',prec4)\n",
        "print('El valor de f-measure fue:',f_mes4)"
      ],
      "metadata": {
        "colab": {
          "base_uri": "https://localhost:8080/"
        },
        "id": "5KiZSIwwVakw",
        "outputId": "cb47ef48-c2a0-4e4c-fd51-1a01adfafbf2"
      },
      "execution_count": 23,
      "outputs": [
        {
          "output_type": "stream",
          "name": "stdout",
          "text": [
            "La performance del clasificador usando el dataset depurado es:\n",
            "La exactitud del modelo fue: 0.998017839444995\n",
            "La precisión del modelo fue: 1.0\n",
            "El valor de f-measure fue: 0.998015873015873\n",
            "\n",
            "\n",
            "La performance del clasificador usando el dataset sin depurar es:\n",
            "La exactitud del modelo fue: 0.6015857284440039\n",
            "La precisión del modelo fue: 0.6043307086614174\n",
            "El valor de f-measure fue: 0.6043307086614174\n"
          ]
        }
      ]
    },
    {
      "cell_type": "code",
      "source": [
        "#Visualizamos los resultados del modelo generado con el dataset depurado y el modelo del dataset sin depurar.\n",
        "\n",
        "cf_mtx3 = metrics.confusion_matrix(test_target,pred3)   #calculo de la matriz\n",
        "print(cf_mtx3)\n",
        "\n",
        "tar3=['Positivo','Negativo']    #Graficamos la matriz de confusión\n",
        "fig,ax = plt.subplots()\n",
        "referencias = np.arange(len(tar3))\n",
        "plt.xticks(referencias, tar3)\n",
        "plt.yticks(referencias, tar3)\n",
        "\n",
        "sns.heatmap(pd.DataFrame(cf_mtx3), annot=True, cmap=\"YlGnBu\" ,fmt='g')\n",
        "ax.xaxis.set_label_position(\"top\")\n",
        "plt.tight_layout()\n",
        "plt.title('Matriz de confusión depurada', y=1.1)\n",
        "plt.ylabel('Target Real')\n",
        "plt.xlabel('Target Predicho')\n",
        "\n",
        "cf_mtx4 = metrics.confusion_matrix(test_targets,pred4)   #calculo de la matriz\n",
        "print(cf_mtx4)\n",
        "\n",
        "tar4=[0,1]    #Graficamos la matriz de confusión\n",
        "fig,ax = plt.subplots()\n",
        "referencias = np.arange(len(tar4))\n",
        "plt.xticks(referencias, tar4)\n",
        "plt.yticks(referencias, tar4)\n",
        "\n",
        "sns.heatmap(pd.DataFrame(cf_mtx4), annot=True, cmap=\"YlGnBu\" ,fmt='g')\n",
        "ax.xaxis.set_label_position(\"top\")\n",
        "plt.tight_layout()\n",
        "plt.title('Matriz de confusión sin depurar', y=1.1)\n",
        "plt.ylabel('Target Real')\n",
        "plt.xlabel('Target Predicho')"
      ],
      "metadata": {
        "colab": {
          "base_uri": "https://localhost:8080/",
          "height": 718
        },
        "id": "7USFZibJVl21",
        "outputId": "10e670b2-0c32-402f-8e26-a32f0b7888ee"
      },
      "execution_count": 24,
      "outputs": [
        {
          "output_type": "stream",
          "name": "stdout",
          "text": [
            "[[504   0]\n",
            " [  2 503]]\n",
            "[[300 201]\n",
            " [201 307]]\n"
          ]
        },
        {
          "output_type": "execute_result",
          "data": {
            "text/plain": [
              "Text(0.5, 257.44, 'Target Predicho')"
            ]
          },
          "metadata": {},
          "execution_count": 24
        },
        {
          "output_type": "display_data",
          "data": {
            "text/plain": [
              "<Figure size 432x288 with 2 Axes>"
            ],
            "image/png": "[encoded data removed]"
          },
          "metadata": {
            "needs_background": "light"
          }
        },
        {
          "output_type": "display_data",
          "data": {
            "text/plain": [
              "<Figure size 432x288 with 2 Axes>"
            ],
            "image/png": "[encoded data removed]"
          },
          "metadata": {
            "needs_background": "light"
          }
        }
      ]
    }
  ]
}